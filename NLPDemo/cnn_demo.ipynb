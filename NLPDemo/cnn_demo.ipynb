{
 "cells": [
  {
   "cell_type": "markdown",
   "id": "25c700aa",
   "metadata": {},
   "source": [
    "**主要步骤：**\n",
    "1. 加载并预处理MNIST数据集\n",
    "2. 构建CNN模型\n",
    "3. 训练模型\n",
    "4. 评估模型性能\n",
    "\n",
    "**模型结构示例：**\n",
    "- 两层卷积层（Conv2D）+ 最大池化层（MaxPooling2D）\n",
    "- Dropout防止过拟合\n",
    "- Flatten展平层\n",
    "- Dense全连接层\n",
    "- 输出层使用softmax激活函数\n",
    "\n",
    "该结构能够在MNIST测试集上达到99%以上的准确率。"
   ]
  },
  {
   "cell_type": "code",
   "execution_count": null,
   "id": "f8eace48",
   "metadata": {},
   "outputs": [],
   "source": [
    "from tensorflow.keras.datasets import mnist\n",
    "from tensorflow.keras.utils import to_categorical\n",
    "from tensorflow.keras.models import Sequential\n",
    "from tensorflow.keras.layers import Conv2D, MaxPooling2D, Dropout, Flatten, Dense\n",
    "\n",
    "# 加载并预处理MNIST数据\n",
    "(x_train, y_train), (x_test, y_test) = mnist.load_data()\n",
    "x_train = x_train.reshape(-1, 28, 28, 1).astype('float32') / 255.0\n",
    "x_test = x_test.reshape(-1, 28, 28, 1).astype('float32') / 255.0\n",
    "y_train = to_categorical(y_train, 10)\n",
    "y_test = to_categorical(y_test, 10)\n",
    "\n",
    "# 构建CNN模型\n",
    "model = Sequential([\n",
    "    Conv2D(32, (3, 3), activation='relu', input_shape=(28, 28, 1)),\n",
    "    MaxPooling2D((2, 2)),\n",
    "    Conv2D(64, (3, 3), activation='relu'),\n",
    "    MaxPooling2D((2, 2)),\n",
    "    Dropout(0.25),\n",
    "    Flatten(),\n",
    "    Dense(128, activation='relu'),\n",
    "    Dropout(0.5),\n",
    "    Dense(10, activation='softmax')\n",
    "])\n",
    "\n",
    "model.compile(optimizer='adam', loss='categorical_crossentropy', metrics=['accuracy'])\n",
    "\n",
    "# 训练模型\n",
    "model.fit(x_train, y_train, epochs=10, batch_size=128, validation_split=0.1, verbose=2)\n",
    "\n",
    "# 评估模型\n",
    "test_loss, test_acc = model.evaluate(x_test, y_test, verbose=0)\n",
    "print(f\"Test accuracy: {test_acc:.4f}\")"
   ]
  }
 ],
 "metadata": {
  "kernelspec": {
   "display_name": "tensorflow_cpu",
   "language": "python",
   "name": "python3"
  },
  "language_info": {
   "name": "python",
   "version": "3.9.21"
  }
 },
 "nbformat": 4,
 "nbformat_minor": 5
}
