{
 "cells": [
  {
   "cell_type": "code",
   "execution_count": 1,
   "metadata": {},
   "outputs": [],
   "source": [
    "cookies = 'ttwid=1%7Cv6VwRYgn_ewR36wh9CumpVCHkgROittWpbjrYARQ4cY%7C1718096945%7Cead734c0e99db551d22bca9be415b73ab7e733db31a2aa1c0730d5aef9fc2ce1; live_use_vvc=%22false%22; csrf_session_id=c8dbfc17b76861b39ba08c60c844841f; xgplayer_user_id=929878766444; d_ticket=df077b7eeddbb53ce49d7622fc489f2299556; store-region=cn-js; store-region-src=uid; my_rd=2; UIFID_TEMP=3c3e9d4a635845249e00419877a3730e2149197a63ddb1d8525033ea2b3354c2de356cc0e534c18b8ae5bf8d9cc58279504ab1523af3abfe8689175b15e28e86dc1a4f51f362742c3b1a2c0657d81df8; douyin.com; device_web_cpu_core=8; device_web_memory_size=8; architecture=amd64; fpk1=U2FsdGVkX19pbHwIrhZYcqEwO+4F0JKiWqjvv92peEAO0QEOX8WAzdyhU28/YxeO4/o/te0tQb+GzpHNXgRv1w==; fpk2=f1f6b29a6cc1f79a0fea05b885aa33d0; UIFID=3c3e9d4a635845249e00419877a3730e2149197a63ddb1d8525033ea2b3354c26d1ae16f2d7e320300a512453a45f656594bd9fa4fb869c0ea5efc3cd2a651a9c078abae5e430098422c5d3abbb89f0c161f47f06c37f097a5c6af4dd1b25955a501b75987726c7e98d2a8dc66779d927e145229e58dcb921b3d358f6796f5e53472ce2faa46efa5607b4fa9d21ed36af6c97b32007fb19a523286909d5c7239; x-web-secsdk-uid=5c76ea99-9a41-46bd-b52f-8ade0d1fdae5; hevc_supported=true; XIGUA_PARAMS_INFO=%7B%7D; __live_version__=%221.1.2.5299%22; webcast_leading_last_show_time=1732168161189; webcast_leading_total_show_times=7; n_mh=veSKDGNSJ2mO1WfZErZKMPteLf6wrQpwTJQMElhXdRU; webcast_local_quality=ld; SearchResultListTypeChangedManually=%221%22; SEARCH_RESULT_LIST_TYPE=%22multi%22; SelfTabRedDotControl=%5B%5D; theme=%22light%22; s_v_web_id=verify_m7bktpuw_YmDAqwJu_gB6z_4elr_Bdk4_SDwdSv9bAsgC; passport_csrf_token=a39dc909def934ba21a5b8293f264bd9; passport_csrf_token_default=a39dc909def934ba21a5b8293f264bd9; __ac_nonce=067d22f8200986a3926f; __ac_signature=_02B4Z6wo00f01Ays6jQAAIDB0.cZeZRiz8QMjO6AAGT.f0; dy_swidth=1536; dy_sheight=864; strategyABtestKey=%221741827975.655%22; FORCE_LOGIN=%7B%22videoConsumedRemainSeconds%22%3A180%7D; biz_trace_id=6f9f0d25; __security_mc_1_s_sdk_crypt_sdk=d7f26fe3-431e-934d; __security_mc_1_s_sdk_cert_key=8f97c10a-486d-85ed; bd_ticket_guard_client_web_domain=2; passport_assist_user=CkEQtyf6AEQA-n0TkatRwTOvWmFRJgKyS9HI4zkh5mhCWzp7t5JxXwlJb3mh44I-bMKMwswB1quO_vPjZv-jU5KfvxpKCjxYIbWo2YMjjQeng4198k7dkPLNRNGuJgghIZ10a5xBtYXsC2XvK2lq44EmjxZugGoVub4cxzbLqdI3ggUQ5e7rDRiJr9ZUIAEiAQMW9NNy; sid_guard=efab0ef5a40df7b72b8386018b611174%7C1741827982%7C5184000%7CMon%2C+12-May-2025+01%3A06%3A22+GMT; uid_tt=cc5e1a0bfa0ae141d637012778993570; uid_tt_ss=cc5e1a0bfa0ae141d637012778993570; sid_tt=efab0ef5a40df7b72b8386018b611174; sessionid=efab0ef5a40df7b72b8386018b611174; sessionid_ss=efab0ef5a40df7b72b8386018b611174; is_staff_user=false; sid_ucp_v1=1.0.0-KDlmYjNjYjUzZWM5ZGZhZDRhOTliOTc0ZWM4ZTQzNTgzMThkMDRjNjUKIQiA4aD958zNAhCO38i-BhjvMSAMMJD2n7MGOAVA-wdIBBoCaGwiIGVmYWIwZWY1YTQwZGY3YjcyYjgzODYwMThiNjExMTc0; ssid_ucp_v1=1.0.0-KDlmYjNjYjUzZWM5ZGZhZDRhOTliOTc0ZWM4ZTQzNTgzMThkMDRjNjUKIQiA4aD958zNAhCO38i-BhjvMSAMMJD2n7MGOAVA-wdIBBoCaGwiIGVmYWIwZWY1YTQwZGY3YjcyYjgzODYwMThiNjExMTc0; login_time=1741827982622; __security_mc_1_s_sdk_sign_data_key_web_protect=abaa365f-49b7-b3ae; _bd_ticket_crypt_cookie=d631ad1fec08142b51faca433650fec3; publish_badge_show_info=%220%2C0%2C0%2C1741827983046%22; FOLLOW_NUMBER_YELLOW_POINT_INFO=%22MS4wLjABAAAA7F-KHwW4SYW-ALPZ1AavSM4U2O4zT8yJwCOdUJreTcCWbt4ywOu3N7XMGFaLFlCe%2F1741881600000%2F0%2F1741828128914%2F0%22; is_dash_user=1; download_guide=%223%2F20250313%2F0%22; stream_recommend_feed_params=%22%7B%5C%22cookie_enabled%5C%22%3Atrue%2C%5C%22screen_width%5C%22%3A1536%2C%5C%22screen_height%5C%22%3A864%2C%5C%22browser_online%5C%22%3Atrue%2C%5C%22cpu_core_num%5C%22%3A8%2C%5C%22device_memory%5C%22%3A8%2C%5C%22downlink%5C%22%3A5.15%2C%5C%22effective_type%5C%22%3A%5C%224g%5C%22%2C%5C%22round_trip_time%5C%22%3A100%7D%22; FOLLOW_LIVE_POINT_INFO=%22MS4wLjABAAAA7F-KHwW4SYW-ALPZ1AavSM4U2O4zT8yJwCOdUJreTcCWbt4ywOu3N7XMGFaLFlCe%2F1741881600000%2F0%2F1741828892451%2F0%22; bd_ticket_guard_client_data=eyJiZC10aWNrZXQtZ3VhcmQtdmVyc2lvbiI6MiwiYmQtdGlja2V0LWd1YXJkLWl0ZXJhdGlvbi12ZXJzaW9uIjoxLCJiZC10aWNrZXQtZ3VhcmQtcmVlLXB1YmxpYy1rZXkiOiJCSGt6OC9VbkJtY29Scmd4eEFvSTd5UVVLRG9sMXRTUzZ4bGpHQnAvQ1JNbmFLSWcyY1NCQ2tQZmVUQ3hTVHdRYnEvMmVSdlBsL1htd3JEenBCbFdwMGM9IiwiYmQtdGlja2V0LWd1YXJkLXdlYi12ZXJzaW9uIjoyfQ%3D%3D; volume_info=%7B%22isUserMute%22%3Afalse%2C%22isMute%22%3Atrue%2C%22volume%22%3A0.5%7D; home_can_add_dy_2_desktop=%221%22; odin_tt=89e969ea451a6572cb812db4bf1b07f4171f2473185b0eb284b401428d2617777328d8a2a253b6dfa59b78ba8f082cdfec6d8975804426b6d56a54ab94601bda; xg_device_score=7.658235294117647; IsDouyinActive=false; passport_fe_beating_status=false; stream_player_status_params=%22%7B%5C%22is_auto_play%5C%22%3A0%2C%5C%22is_full_screen%5C%22%3A0%2C%5C%22is_full_webscreen%5C%22%3A0%2C%5C%22is_mute%5C%22%3A1%2C%5C%22is_speed%5C%22%3A1%2C%5C%22is_visible%5C%22%3A0%7D%22'"
   ]
  },
  {
   "cell_type": "code",
   "execution_count": 3,
   "metadata": {},
   "outputs": [],
   "source": [
    "headers = {  \n",
    "    'User-Agent': 'Mozilla/5.0 (Windows NT 10.0; Win64; x64) AppleWebKit/537.36 (KHTML, like Gecko) Chrome/133.0.0.0 Safari/537.36',\n",
    "    'Cookie': cookies,  # 需定期更新  \n",
    "    'Referer': 'https://www.douyin.com/'  \n",
    "}"
   ]
  },
  {
   "cell_type": "code",
   "execution_count": 1,
   "metadata": {},
   "outputs": [],
   "source": [
    "import requests\n",
    "import json\n",
    "import re"
   ]
  },
  {
   "cell_type": "code",
   "execution_count": null,
   "metadata": {},
   "outputs": [
    {
     "ename": "SSLError",
     "evalue": "HTTPSConnectionPool(host='www.douyin.com', port=443): Max retries exceeded with url: /search/%E4%BF%9D%E9%99%A9?type=live (Caused by SSLError(SSLEOFError(8, '[SSL: UNEXPECTED_EOF_WHILE_READING] EOF occurred in violation of protocol (_ssl.c:1006)')))",
     "output_type": "error",
     "traceback": [
      "\u001b[1;31m---------------------------------------------------------------------------\u001b[0m",
      "\u001b[1;31mSSLError\u001b[0m                                  Traceback (most recent call last)",
      "\u001b[1;31mSSLError\u001b[0m: [SSL: UNEXPECTED_EOF_WHILE_READING] EOF occurred in violation of protocol (_ssl.c:1006)",
      "\nThe above exception was the direct cause of the following exception:\n",
      "\u001b[1;31mMaxRetryError\u001b[0m                             Traceback (most recent call last)",
      "File \u001b[1;32mc:\\ProgramData\\anaconda3\\Lib\\site-packages\\requests\\adapters.py:486\u001b[0m, in \u001b[0;36mHTTPAdapter.send\u001b[1;34m(self, request, stream, timeout, verify, cert, proxies)\u001b[0m\n\u001b[0;32m    485\u001b[0m \u001b[38;5;28;01mtry\u001b[39;00m:\n\u001b[1;32m--> 486\u001b[0m     resp \u001b[38;5;241m=\u001b[39m conn\u001b[38;5;241m.\u001b[39murlopen(\n\u001b[0;32m    487\u001b[0m         method\u001b[38;5;241m=\u001b[39mrequest\u001b[38;5;241m.\u001b[39mmethod,\n\u001b[0;32m    488\u001b[0m         url\u001b[38;5;241m=\u001b[39murl,\n\u001b[0;32m    489\u001b[0m         body\u001b[38;5;241m=\u001b[39mrequest\u001b[38;5;241m.\u001b[39mbody,\n\u001b[0;32m    490\u001b[0m         headers\u001b[38;5;241m=\u001b[39mrequest\u001b[38;5;241m.\u001b[39mheaders,\n\u001b[0;32m    491\u001b[0m         redirect\u001b[38;5;241m=\u001b[39m\u001b[38;5;28;01mFalse\u001b[39;00m,\n\u001b[0;32m    492\u001b[0m         assert_same_host\u001b[38;5;241m=\u001b[39m\u001b[38;5;28;01mFalse\u001b[39;00m,\n\u001b[0;32m    493\u001b[0m         preload_content\u001b[38;5;241m=\u001b[39m\u001b[38;5;28;01mFalse\u001b[39;00m,\n\u001b[0;32m    494\u001b[0m         decode_content\u001b[38;5;241m=\u001b[39m\u001b[38;5;28;01mFalse\u001b[39;00m,\n\u001b[0;32m    495\u001b[0m         retries\u001b[38;5;241m=\u001b[39m\u001b[38;5;28mself\u001b[39m\u001b[38;5;241m.\u001b[39mmax_retries,\n\u001b[0;32m    496\u001b[0m         timeout\u001b[38;5;241m=\u001b[39mtimeout,\n\u001b[0;32m    497\u001b[0m         chunked\u001b[38;5;241m=\u001b[39mchunked,\n\u001b[0;32m    498\u001b[0m     )\n\u001b[0;32m    500\u001b[0m \u001b[38;5;28;01mexcept\u001b[39;00m (ProtocolError, \u001b[38;5;167;01mOSError\u001b[39;00m) \u001b[38;5;28;01mas\u001b[39;00m err:\n",
      "File \u001b[1;32mc:\\ProgramData\\anaconda3\\Lib\\site-packages\\urllib3\\connectionpool.py:845\u001b[0m, in \u001b[0;36mHTTPConnectionPool.urlopen\u001b[1;34m(self, method, url, body, headers, retries, redirect, assert_same_host, timeout, pool_timeout, release_conn, chunked, body_pos, preload_content, decode_content, **response_kw)\u001b[0m\n\u001b[0;32m    843\u001b[0m     new_e \u001b[38;5;241m=\u001b[39m ProtocolError(\u001b[38;5;124m\"\u001b[39m\u001b[38;5;124mConnection aborted.\u001b[39m\u001b[38;5;124m\"\u001b[39m, new_e)\n\u001b[1;32m--> 845\u001b[0m retries \u001b[38;5;241m=\u001b[39m retries\u001b[38;5;241m.\u001b[39mincrement(\n\u001b[0;32m    846\u001b[0m     method, url, error\u001b[38;5;241m=\u001b[39mnew_e, _pool\u001b[38;5;241m=\u001b[39m\u001b[38;5;28mself\u001b[39m, _stacktrace\u001b[38;5;241m=\u001b[39msys\u001b[38;5;241m.\u001b[39mexc_info()[\u001b[38;5;241m2\u001b[39m]\n\u001b[0;32m    847\u001b[0m )\n\u001b[0;32m    848\u001b[0m retries\u001b[38;5;241m.\u001b[39msleep()\n",
      "File \u001b[1;32mc:\\ProgramData\\anaconda3\\Lib\\site-packages\\urllib3\\util\\retry.py:515\u001b[0m, in \u001b[0;36mRetry.increment\u001b[1;34m(self, method, url, response, error, _pool, _stacktrace)\u001b[0m\n\u001b[0;32m    514\u001b[0m     reason \u001b[38;5;241m=\u001b[39m error \u001b[38;5;129;01mor\u001b[39;00m ResponseError(cause)\n\u001b[1;32m--> 515\u001b[0m     \u001b[38;5;28;01mraise\u001b[39;00m MaxRetryError(_pool, url, reason) \u001b[38;5;28;01mfrom\u001b[39;00m \u001b[38;5;21;01mreason\u001b[39;00m  \u001b[38;5;66;03m# type: ignore[arg-type]\u001b[39;00m\n\u001b[0;32m    517\u001b[0m log\u001b[38;5;241m.\u001b[39mdebug(\u001b[38;5;124m\"\u001b[39m\u001b[38;5;124mIncremented Retry for (url=\u001b[39m\u001b[38;5;124m'\u001b[39m\u001b[38;5;132;01m%s\u001b[39;00m\u001b[38;5;124m'\u001b[39m\u001b[38;5;124m): \u001b[39m\u001b[38;5;132;01m%r\u001b[39;00m\u001b[38;5;124m\"\u001b[39m, url, new_retry)\n",
      "\u001b[1;31mMaxRetryError\u001b[0m: HTTPSConnectionPool(host='www.douyin.com', port=443): Max retries exceeded with url: /search/%E4%BF%9D%E9%99%A9?type=live (Caused by SSLError(SSLEOFError(8, '[SSL: UNEXPECTED_EOF_WHILE_READING] EOF occurred in violation of protocol (_ssl.c:1006)')))",
      "\nDuring handling of the above exception, another exception occurred:\n",
      "\u001b[1;31mSSLError\u001b[0m                                  Traceback (most recent call last)",
      "Cell \u001b[1;32mIn[2], line 6\u001b[0m\n\u001b[0;32m      2\u001b[0m search_url \u001b[38;5;241m=\u001b[39m \u001b[38;5;124m\"\u001b[39m\u001b[38;5;124mhttps://www.douyin.com/search/保险?type=live\u001b[39m\u001b[38;5;124m\"\u001b[39m\n\u001b[0;32m      3\u001b[0m headers \u001b[38;5;241m=\u001b[39m {\n\u001b[0;32m      4\u001b[0m     \u001b[38;5;124m'\u001b[39m\u001b[38;5;124mUser-Agent\u001b[39m\u001b[38;5;124m'\u001b[39m: \u001b[38;5;124m'\u001b[39m\u001b[38;5;124mMozilla/5.0 (iPhone; CPU iPhone OS 16_6 like Mac OS X) AppleWebKit/605.1.15 (KHTML, like Gecko) Version/16.6 Mobile/15E148 Safari/604.1\u001b[39m\u001b[38;5;124m'\u001b[39m\n\u001b[0;32m      5\u001b[0m }\n\u001b[1;32m----> 6\u001b[0m response \u001b[38;5;241m=\u001b[39m requests\u001b[38;5;241m.\u001b[39mget(search_url, headers\u001b[38;5;241m=\u001b[39mheaders)\n\u001b[0;32m      7\u001b[0m live_ids \u001b[38;5;241m=\u001b[39m re\u001b[38;5;241m.\u001b[39mfindall(\u001b[38;5;124mr\u001b[39m\u001b[38;5;124m'\u001b[39m\u001b[38;5;124mroom_id\u001b[39m\u001b[38;5;132;01m%22%\u001b[39;00m\u001b[38;5;124m3A\u001b[39m\u001b[38;5;124m%\u001b[39m\u001b[38;5;124m22(\u001b[39m\u001b[38;5;124m\\\u001b[39m\u001b[38;5;124md+)\u001b[39m\u001b[38;5;124m%\u001b[39m\u001b[38;5;124m22\u001b[39m\u001b[38;5;124m'\u001b[39m, response\u001b[38;5;241m.\u001b[39mtext)\n",
      "File \u001b[1;32mc:\\ProgramData\\anaconda3\\Lib\\site-packages\\requests\\api.py:73\u001b[0m, in \u001b[0;36mget\u001b[1;34m(url, params, **kwargs)\u001b[0m\n\u001b[0;32m     62\u001b[0m \u001b[38;5;28;01mdef\u001b[39;00m \u001b[38;5;21mget\u001b[39m(url, params\u001b[38;5;241m=\u001b[39m\u001b[38;5;28;01mNone\u001b[39;00m, \u001b[38;5;241m*\u001b[39m\u001b[38;5;241m*\u001b[39mkwargs):\n\u001b[0;32m     63\u001b[0m \u001b[38;5;250m    \u001b[39m\u001b[38;5;124mr\u001b[39m\u001b[38;5;124;03m\"\"\"Sends a GET request.\u001b[39;00m\n\u001b[0;32m     64\u001b[0m \n\u001b[0;32m     65\u001b[0m \u001b[38;5;124;03m    :param url: URL for the new :class:`Request` object.\u001b[39;00m\n\u001b[1;32m   (...)\u001b[0m\n\u001b[0;32m     70\u001b[0m \u001b[38;5;124;03m    :rtype: requests.Response\u001b[39;00m\n\u001b[0;32m     71\u001b[0m \u001b[38;5;124;03m    \"\"\"\u001b[39;00m\n\u001b[1;32m---> 73\u001b[0m     \u001b[38;5;28;01mreturn\u001b[39;00m request(\u001b[38;5;124m\"\u001b[39m\u001b[38;5;124mget\u001b[39m\u001b[38;5;124m\"\u001b[39m, url, params\u001b[38;5;241m=\u001b[39mparams, \u001b[38;5;241m*\u001b[39m\u001b[38;5;241m*\u001b[39mkwargs)\n",
      "File \u001b[1;32mc:\\ProgramData\\anaconda3\\Lib\\site-packages\\requests\\api.py:59\u001b[0m, in \u001b[0;36mrequest\u001b[1;34m(method, url, **kwargs)\u001b[0m\n\u001b[0;32m     55\u001b[0m \u001b[38;5;66;03m# By using the 'with' statement we are sure the session is closed, thus we\u001b[39;00m\n\u001b[0;32m     56\u001b[0m \u001b[38;5;66;03m# avoid leaving sockets open which can trigger a ResourceWarning in some\u001b[39;00m\n\u001b[0;32m     57\u001b[0m \u001b[38;5;66;03m# cases, and look like a memory leak in others.\u001b[39;00m\n\u001b[0;32m     58\u001b[0m \u001b[38;5;28;01mwith\u001b[39;00m sessions\u001b[38;5;241m.\u001b[39mSession() \u001b[38;5;28;01mas\u001b[39;00m session:\n\u001b[1;32m---> 59\u001b[0m     \u001b[38;5;28;01mreturn\u001b[39;00m session\u001b[38;5;241m.\u001b[39mrequest(method\u001b[38;5;241m=\u001b[39mmethod, url\u001b[38;5;241m=\u001b[39murl, \u001b[38;5;241m*\u001b[39m\u001b[38;5;241m*\u001b[39mkwargs)\n",
      "File \u001b[1;32mc:\\ProgramData\\anaconda3\\Lib\\site-packages\\requests\\sessions.py:589\u001b[0m, in \u001b[0;36mSession.request\u001b[1;34m(self, method, url, params, data, headers, cookies, files, auth, timeout, allow_redirects, proxies, hooks, stream, verify, cert, json)\u001b[0m\n\u001b[0;32m    584\u001b[0m send_kwargs \u001b[38;5;241m=\u001b[39m {\n\u001b[0;32m    585\u001b[0m     \u001b[38;5;124m\"\u001b[39m\u001b[38;5;124mtimeout\u001b[39m\u001b[38;5;124m\"\u001b[39m: timeout,\n\u001b[0;32m    586\u001b[0m     \u001b[38;5;124m\"\u001b[39m\u001b[38;5;124mallow_redirects\u001b[39m\u001b[38;5;124m\"\u001b[39m: allow_redirects,\n\u001b[0;32m    587\u001b[0m }\n\u001b[0;32m    588\u001b[0m send_kwargs\u001b[38;5;241m.\u001b[39mupdate(settings)\n\u001b[1;32m--> 589\u001b[0m resp \u001b[38;5;241m=\u001b[39m \u001b[38;5;28mself\u001b[39m\u001b[38;5;241m.\u001b[39msend(prep, \u001b[38;5;241m*\u001b[39m\u001b[38;5;241m*\u001b[39msend_kwargs)\n\u001b[0;32m    591\u001b[0m \u001b[38;5;28;01mreturn\u001b[39;00m resp\n",
      "File \u001b[1;32mc:\\ProgramData\\anaconda3\\Lib\\site-packages\\requests\\sessions.py:703\u001b[0m, in \u001b[0;36mSession.send\u001b[1;34m(self, request, **kwargs)\u001b[0m\n\u001b[0;32m    700\u001b[0m start \u001b[38;5;241m=\u001b[39m preferred_clock()\n\u001b[0;32m    702\u001b[0m \u001b[38;5;66;03m# Send the request\u001b[39;00m\n\u001b[1;32m--> 703\u001b[0m r \u001b[38;5;241m=\u001b[39m adapter\u001b[38;5;241m.\u001b[39msend(request, \u001b[38;5;241m*\u001b[39m\u001b[38;5;241m*\u001b[39mkwargs)\n\u001b[0;32m    705\u001b[0m \u001b[38;5;66;03m# Total elapsed time of the request (approximately)\u001b[39;00m\n\u001b[0;32m    706\u001b[0m elapsed \u001b[38;5;241m=\u001b[39m preferred_clock() \u001b[38;5;241m-\u001b[39m start\n",
      "File \u001b[1;32mc:\\ProgramData\\anaconda3\\Lib\\site-packages\\requests\\adapters.py:517\u001b[0m, in \u001b[0;36mHTTPAdapter.send\u001b[1;34m(self, request, stream, timeout, verify, cert, proxies)\u001b[0m\n\u001b[0;32m    513\u001b[0m         \u001b[38;5;28;01mraise\u001b[39;00m ProxyError(e, request\u001b[38;5;241m=\u001b[39mrequest)\n\u001b[0;32m    515\u001b[0m     \u001b[38;5;28;01mif\u001b[39;00m \u001b[38;5;28misinstance\u001b[39m(e\u001b[38;5;241m.\u001b[39mreason, _SSLError):\n\u001b[0;32m    516\u001b[0m         \u001b[38;5;66;03m# This branch is for urllib3 v1.22 and later.\u001b[39;00m\n\u001b[1;32m--> 517\u001b[0m         \u001b[38;5;28;01mraise\u001b[39;00m SSLError(e, request\u001b[38;5;241m=\u001b[39mrequest)\n\u001b[0;32m    519\u001b[0m     \u001b[38;5;28;01mraise\u001b[39;00m \u001b[38;5;167;01mConnectionError\u001b[39;00m(e, request\u001b[38;5;241m=\u001b[39mrequest)\n\u001b[0;32m    521\u001b[0m \u001b[38;5;28;01mexcept\u001b[39;00m ClosedPoolError \u001b[38;5;28;01mas\u001b[39;00m e:\n",
      "\u001b[1;31mSSLError\u001b[0m: HTTPSConnectionPool(host='www.douyin.com', port=443): Max retries exceeded with url: /search/%E4%BF%9D%E9%99%A9?type=live (Caused by SSLError(SSLEOFError(8, '[SSL: UNEXPECTED_EOF_WHILE_READING] EOF occurred in violation of protocol (_ssl.c:1006)')))"
     ]
    }
   ],
   "source": [
    "# 通过搜索接口获取直播间ID列表 ‌:ml-citation{ref=\"6\" data=\"citationList\"}\n",
    "search_url = \"https://www.douyin.com/search/保险?type=live\"\n",
    "headers = {\n",
    "    'User-Agent': 'Mozilla/5.0 (iPhone; CPU iPhone OS 16_6 like Mac OS X) AppleWebKit/605.1.15 (KHTML, like Gecko) Version/16.6 Mobile/15E148 Safari/604.1',\n",
    "    'Cookie': cookies,\n",
    "    'Referer': 'https://www.douyin.com/',\n",
    "\n",
    "}\n",
    "response = requests.get(search_url, headers=headers)\n",
    "live_ids = re.findall(r'room_id%22%3A%22(\\d+)%22', response.text)"
   ]
  },
  {
   "cell_type": "code",
   "execution_count": null,
   "metadata": {},
   "outputs": [],
   "source": []
  },
  {
   "cell_type": "code",
   "execution_count": null,
   "metadata": {},
   "outputs": [],
   "source": []
  },
  {
   "cell_type": "code",
   "execution_count": 3,
   "metadata": {},
   "outputs": [
    {
     "name": "stderr",
     "output_type": "stream",
     "text": [
      "C:\\Users\\DT-Liuxiangfei\\AppData\\Local\\Temp\\ipykernel_22424\\740264331.py:45: RuntimeWarning: coroutine 'scrape_douyin_live' was never awaited\n",
      "  scrape_douyin_live()\n",
      "RuntimeWarning: Enable tracemalloc to get the object allocation traceback\n"
     ]
    }
   ],
   "source": [
    "from playwright.sync_api import sync_playwright\n",
    "from bs4 import BeautifulSoup\n",
    "import pandas as pd\n",
    "import time\n",
    "import asyncio\n",
    "\n",
    "data = []\n",
    "\n",
    "\n",
    "async def scrape_douyin_live():\n",
    "    async with sync_playwright() as p:\n",
    "        # 启动浏览器（设置中文语言）\n",
    "        browser = p.chromium.launch(headless=False)\n",
    "        context = browser.new_context(locale=\"zh-CN\")\n",
    "        page = context.new_page()\n",
    "        \n",
    "        # 访问搜索页\n",
    "        await page.goto(\"https://www.douyin.com/search/%E4%BF%9D%E9%99%A9?type=live\")\n",
    "        time.sleep(5)  # 等待页面加载\n",
    "        \n",
    "        # 模拟滚动加载\n",
    "        for _ in range(3):  # 滚动3次加载更多内容\n",
    "            page.mouse.wheel(0, 15000)\n",
    "            time.sleep(2)\n",
    "        \n",
    "        # 解析页面\n",
    "        soup = BeautifulSoup(page.content(), \"html.parser\")\n",
    "        live_cards = soup.select(\".live-card-wrapper\")  # 根据实际DOM结构调整\n",
    "        \n",
    "        data = []\n",
    "        for card in live_cards:\n",
    "            try:\n",
    "                data.append({\n",
    "                    \"账号名称\": card.select_one(\".nickname\").text.strip(),\n",
    "                    \"账号ID\": card.select_one(\"a\")[\"href\"].split(\"/\")[-2],\n",
    "                    \"主页URL\": \"https://www.douyin.com\" + card.select_one(\"a\")[\"href\"],\n",
    "                    \"观看人数\": card.select_one(\".online-count\").text.strip()\n",
    "                })\n",
    "            except Exception as e:\n",
    "                print(f\"解析失败：{e}\")\n",
    "        \n",
    "        await browser.close()\n",
    "\n",
    "# 执行并保存数据\n",
    "scrape_douyin_live()\n",
    "df = pd.DataFrame(data)\n",
    "df.to_csv(\"douyin_live_insurance_browser.csv\", index=False)"
   ]
  },
  {
   "cell_type": "code",
   "execution_count": null,
   "metadata": {},
   "outputs": [],
   "source": []
  },
  {
   "cell_type": "code",
   "execution_count": null,
   "metadata": {},
   "outputs": [],
   "source": []
  }
 ],
 "metadata": {
  "kernelspec": {
   "display_name": "base",
   "language": "python",
   "name": "python3"
  },
  "language_info": {
   "codemirror_mode": {
    "name": "ipython",
    "version": 3
   },
   "file_extension": ".py",
   "mimetype": "text/x-python",
   "name": "python",
   "nbconvert_exporter": "python",
   "pygments_lexer": "ipython3",
   "version": "3.11.7"
  }
 },
 "nbformat": 4,
 "nbformat_minor": 2
}
