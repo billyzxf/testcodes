{
 "cells": [
  {
   "cell_type": "code",
   "execution_count": null,
   "id": "f938ee5d",
   "metadata": {},
   "outputs": [
    {
     "name": "stderr",
     "output_type": "stream",
     "text": [
      "c:\\Users\\DT-Liuxiangfei\\.conda\\envs\\python38\\lib\\site-packages\\scipy\\__init__.py:146: UserWarning: A NumPy version >=1.16.5 and <1.23.0 is required for this version of SciPy (detected version 1.24.4\n",
      "  warnings.warn(f\"A NumPy version >={np_minversion} and <{np_maxversion}\"\n"
     ]
    }
   ],
   "source": [
    "import pandas as pd\n",
    "import numpy as np\n",
    "\n",
    "from pyspark.sql import SparkSession\n",
    "import pyspark.sql.functions as F\n",
    "import pyspark.sql.types as T\n",
    "import pyspark.ml.feature as E"
   ]
  },
  {
   "cell_type": "code",
   "execution_count": 2,
   "id": "1c867dda",
   "metadata": {},
   "outputs": [],
   "source": [
    "import os\n",
    "os.environ['PYSPARK_PYTHON'] = 'C:/Users/DT-Liuxiangfei/.conda/envs/python38/python.exe'\n",
    "os.environ['PYSPARK_DRIVER_PYTHON'] = 'C:/Users/DT-Liuxiangfei/.conda/envs/python38/python.exe'"
   ]
  },
  {
   "cell_type": "code",
   "execution_count": 3,
   "id": "a4478675",
   "metadata": {},
   "outputs": [],
   "source": [
    "import os\n",
    "os.environ['HADOOP_HOME'] = 'C:/Users/DT-Liuxiangfei/Documents/TestCodes/model/data/hadoop-3.3.6'\n",
    "os.environ['hadoop.home.dir'] = 'C:/Users/DT-Liuxiangfei/Documents/TestCodes/model/data/hadoop-3.3.6'"
   ]
  },
  {
   "cell_type": "code",
   "execution_count": 4,
   "id": "86376acc",
   "metadata": {},
   "outputs": [
    {
     "data": {
      "text/html": [
       "\n",
       "            <div>\n",
       "                <p><b>SparkSession - in-memory</b></p>\n",
       "                \n",
       "        <div>\n",
       "            <p><b>SparkContext</b></p>\n",
       "\n",
       "            <p><a href=\"http://DT-zhaoxiangfei:4040\">Spark UI</a></p>\n",
       "\n",
       "            <dl>\n",
       "              <dt>Version</dt>\n",
       "                <dd><code>v3.5.3</code></dd>\n",
       "              <dt>Master</dt>\n",
       "                <dd><code>local[4]</code></dd>\n",
       "              <dt>AppName</dt>\n",
       "                <dd><code>LocalTest</code></dd>\n",
       "            </dl>\n",
       "        </div>\n",
       "        \n",
       "            </div>\n",
       "        "
      ],
      "text/plain": [
       "<pyspark.sql.session.SparkSession at 0x288990ec580>"
      ]
     },
     "execution_count": 4,
     "metadata": {},
     "output_type": "execute_result"
    }
   ],
   "source": [
    "spark = SparkSession.builder \\\n",
    "    .appName(\"LocalTest\") \\\n",
    "    .master(\"local[4]\") \\\n",
    "    .config(\"spark.driver.memory\", \"4g\") \\\n",
    "    .config(\"spark.executor.memory\", \"4g\") \\\n",
    "    .getOrCreate()\n",
    "\n",
    "spark"
   ]
  },
  {
   "cell_type": "code",
   "execution_count": 5,
   "id": "13a89cf7",
   "metadata": {},
   "outputs": [],
   "source": [
    "n_host_cols_list = [\n",
    "    'fre_all_host_10', 'fre_all_host_20', 'fre_all_host_30',\n",
    "    'fre_ins_host_10', 'fre_ins_host_20', 'fre_ins_host_30',\n",
    "    'fre_loan_host_10', 'fre_loan_host_20', 'fre_loan_host_30',\n",
    "    'fre_credit_host_10', 'fre_credit_host_20', 'fre_credit_host_30',\n",
    "    'fre_car_host_10', 'fre_car_host_20', 'fre_car_host_30',\n",
    "    'fre_pro_host_10', 'fre_pro_host_20', 'fre_pro_host_30',\n",
    "    'fre_edu_host_10', 'fre_edu_host_20', 'fre_edu_host_30',\n",
    "    'fre_inv_host_10', 'fre_inv_host_20', 'fre_inv_host_30',\n",
    "    'fre_health_host_10', 'fre_health_host_20', 'fre_health_host_30',\n",
    "    'ins_fre_rate_10', 'ins_fre_rate_20', 'ins_fre_rate_30',\n",
    "    'loan_fre_rate_10', 'loan_fre_rate_20', 'loan_fre_rate_30',\n",
    "    'credit_fre_rate_10', 'credit_fre_rate_20', 'credit_fre_rate_30',\n",
    "    'car_fre_rate_10', 'car_fre_rate_20', 'car_fre_rate_30',\n",
    "    'pro_fre_rate_10', 'pro_fre_rate_20', 'pro_fre_rate_30',\n",
    "    'edu_fre_rate_10', 'edu_fre_rate_20', 'edu_fre_rate_30',\n",
    "    'inv_fre_rate_10', 'inv_fre_rate_20', 'inv_fre_rate_30',\n",
    "    'health_fre_rate_10', 'health_fre_rate_20', 'health_fre_rate_30',\n",
    "    'fre_all_host_avg_30', 'fre_all_host_sd_30', 'fre_all_host_cv_30',\n",
    "    'fre_ins_host_avg_30', 'fre_ins_host_sd_30', 'fre_ins_host_cv_30',\n",
    "    'fre_loan_host_avg_30', 'fre_loan_host_sd_30', 'fre_loan_host_cv_30',\n",
    "    'fre_credit_host_avg_30', 'fre_credit_host_sd_30', 'fre_credit_host_cv_30',\n",
    "    'fre_car_host_avg_30', 'fre_car_host_sd_30', 'fre_car_host_cv_30',\n",
    "    'fre_pro_host_avg_30', 'fre_pro_host_sd_30', 'fre_pro_host_cv_30',\n",
    "    'fre_edu_host_avg_30', 'fre_edu_host_sd_30', 'fre_edu_host_cv_30',\n",
    "    'fre_inv_host_avg_30', 'fre_inv_host_sd_30', 'fre_inv_host_cv_30',\n",
    "    'fre_health_host_avg_30', 'fre_health_host_sd_30', 'fre_health_host_cv_30',\n",
    "    'ins_fre_rate_avg_30', 'ins_fre_rate_sd_30', 'ins_fre_rate_cv_30',\n",
    "    'loan_fre_rate_avg_30', 'loan_fre_rate_sd_30', 'loan_fre_rate_cv_30',\n",
    "    'credit_fre_rate_avg_30', 'credit_fre_rate_sd_30', 'credit_fre_rate_cv_30',\n",
    "    'car_fre_rate_avg_30', 'car_fre_rate_sd_30', 'car_fre_rate_cv_30',\n",
    "    'pro_fre_rate_avg_30', 'pro_fre_rate_sd_30', 'pro_fre_rate_cv_30',\n",
    "    'edu_fre_rate_avg_30', 'edu_fre_rate_sd_30', 'edu_fre_rate_cv_30',\n",
    "    'inv_fre_rate_avg_30', 'inv_fre_rate_sd_30', 'inv_fre_rate_cv_30',\n",
    "    'health_fre_rate_avg_30', 'health_fre_rate_sd_30', 'health_fre_rate_cv_30'\n",
    "]\n",
    "\n",
    "numerical_features = ['send_insure_30', 'send_insure_60', 'send_insure_90', 'send_insure_180',\n",
    "                      'days_since_send_insure_date', 'send_loan_30', 'send_loan_60', 'send_loan_90', 'send_loan_180',\n",
    "                      'days_since_send_loan_date', 'click_insure_30', 'click_insure_60', 'click_insure_90',\n",
    "                      'click_insure_180', 'days_since_click_insure_date', 'click_loan_30', 'click_loan_60',\n",
    "                      'click_loan_90', 'click_loan_180', 'days_since_click_loan_date', 'call_insure_30',\n",
    "                      'call_insure_60', 'call_insure_90', 'call_insure_180', 'days_since_call_insure_date',\n",
    "                      'call_loan_30', 'call_loan_60', 'call_loan_90', 'call_loan_180', 'days_since_call_loan_date',\n",
    "                      'pick_insure_30', 'pick_insure_60', 'pick_insure_90', 'pick_insure_180',\n",
    "                      'days_since_pick_insure_date', 'pick_loan_30', 'pick_loan_60', 'pick_loan_90', 'pick_loan_180',\n",
    "                      'days_since_pick_loan_date', 'call_send_insure_30', 'call_send_insure_60', 'call_send_insure_90',\n",
    "                      'call_send_insure_180', 'days_since_call_send_insure_date', 'call_send_loan_30',\n",
    "                      'call_send_loan_60', 'call_send_loan_90', 'call_send_loan_180', 'days_since_call_send_loan_date',\n",
    "                      'call_click_insure_30', 'call_click_insure_60', 'call_click_insure_90', 'call_click_insure_180',\n",
    "                      'days_since_call_click_insure_date', 'call_click_loan_30', 'call_click_loan_60',\n",
    "                      'call_click_loan_90', 'call_click_loan_180', 'days_since_call_click_loan_date', ] \\\n",
    "                     + ['city_level', 'new_age', 'active_duration', 'avg_price', \n",
    "                        'MAYI_OFFLINE_bx_32140', 'MAYI_OFFLINE_bx_33118', 'MAYI_OFFLINE_bx_32017', 'PROJECT_HS_bx_bx01', \n",
    "                        'MAYIYXD_GENERAL_bx_18184', 'MAYIYXD_GENERAL_bx_6134', 'PROJECT_TT_BX_EC_FLOW_RISK_ALIYUN_V21', 'MAYIYXD_GENERAL_bx_18825'] \\\n",
    "                      + n_host_cols_list \\\n",
    "                     + ['duration_30', 'duration_60', 'duration_90', 'duration_120',\n",
    "                        'interact_30', 'interact_60', 'interact_90', 'interact_120',\n",
    "                        'say_count_30', 'say_count_60', 'say_count_90', 'say_count_120',\n",
    "                        'freq_hangup_1_30', 'freq_hangup_1_60', 'freq_hangup_1_90', 'freq_hangup_1_120',\n",
    "                        'freq_hangup_2_30', 'freq_hangup_2_60', 'freq_hangup_2_90', 'freq_hangup_2_120',\n",
    "                        'hangup_1_prob_30', 'hangup_1_prob_60', 'hangup_1_prob_90', 'hangup_1_prob_120', ]\n",
    "categorical_features = ['phone_model', 'browser_family', 'os_family', 'device_brand', 'city_code', 'province_code',\n",
    "                        'sex', 'hashouse', 'social', 'overdue',\n",
    "                        'tax', 'married', 'benke', 'kid', 'income', 'consumption', 'shebao']\n",
    "text_features = ['host_0009', 'host_1019', 'host_2029', 'host_date_0009', 'host_date_1019', 'host_date_2029',\n",
    "                 'host_fre_0009', 'host_fre_1019', 'host_fre_2029', 'label_0009', 'label_1019', 'label_date_0009',\n",
    "                 'label_date_1019', 'clicked_products_0009', 'clicked_products_date_0009', 'sms_sent_products_0009',\n",
    "                 'sms_sent_products_1019', 'sms_sent_products_date_0009', 'sms_sent_products_date_1019',\n",
    "                 'called_products_0009', 'called_products_1019', 'called_products_date_0009',\n",
    "                 'called_products_date_1019', 'picked_products_0009', 'picked_products_date_0009',\n",
    "                 'outbound_sent_products_0009', 'outbound_sent_products_date_0009', ] \\\n",
    "                + ['keypress_30', 'keypress_60', 'keypress_90', 'keypress_120',\n",
    "                   'rule_name_30', 'rule_name_60', 'rule_name_90', 'rule_name_120',\n",
    "                   'semantic_30', 'semantic_60', 'semantic_90', 'semantic_120', ] + ['model_value']"
   ]
  },
  {
   "cell_type": "code",
   "execution_count": null,
   "id": "8965893d",
   "metadata": {},
   "outputs": [],
   "source": [
    "df = pd.read_excel(\"data/train_data.xlsx\")\n",
    "spark_df = spark.createDataFrame(df)\n",
    "label_data_new = spark_df.drop(\"hosts\", \"products\", \"labels\", \"keypress\", \"rules\", \"semantics\")\n",
    "\n",
    "for col in text_features:\n",
    "    label_data_new = label_data_new.withColumn(col, F.col(col).cast('string'))"
   ]
  },
  {
   "cell_type": "code",
   "execution_count": 9,
   "id": "eb2c6772",
   "metadata": {},
   "outputs": [
    {
     "name": "stdout",
     "output_type": "stream",
     "text": [
      "+-------+------+-------+----+--------------------+--------------------+---------+--------------------+-------------------+--------------+--------------------+-------------------+-------------+----------+----------+---------------+---------------+---------------------+--------------------------+----------------------+----------------------+---------------------------+---------------------------+--------------------+--------------------+-------------------------+-------------------------+--------------------+-------------------------+---------------------------+--------------------------------+-----------+-----------+-----------+------------+------------+------------+------------+-------------+-----------+-----------+-----------+------------+-----------+-----------+-----------+------------+-----------+-----------+-----------+------------+------------+------------+------------+-------------+----------------+----------------+----------------+-----------------+----------------+----------------+----------------+-----------------+----------------+----------------+----------------+-----------------+--------------------+--------------+--------------+--------------+---------------+---------------------------+------------+------------+------------+-------------+-------------------------+---------------+---------------+---------------+----------------+----------------------------+-------------+-------------+-------------+--------------+--------------------------+--------------+--------------+--------------+---------------+---------------------------+------------+------------+------------+-------------+-------------------------+--------------+--------------+--------------+---------------+---------------------------+------------+------------+------------+-------------+-------------------------+-------------------+-------------------+-------------------+--------------------+--------------------------------+-----------------+-----------------+-----------------+------------------+------------------------------+--------------------+--------------------+--------------------+---------------------+---------------------------------+------------------+------------------+------------------+-------------------+-------------------------------+--------------------+-------+---+--------+------+-------+--------------+---------+------------+---------+-------------+----------+---+---------------+-------+-----+---+---------+------+-----------+------+---------------+---------------+---------------+---------------+---------------+---------------+----------------+----------------+----------------+------------------+------------------+------------------+---------------+---------------+---------------+---------------+---------------+---------------+---------------+---------------+---------------+---------------+---------------+---------------+------------------+------------------+------------------+---------------+---------------+---------------+----------------+----------------+----------------+------------------+------------------+------------------+---------------+---------------+---------------+---------------+---------------+---------------+---------------+---------------+-----------------+---------------+---------------+---------------+------------------+------------------+------------------+-------------------+------------------+------------------+-------------------+------------------+------------------+--------------------+-------------------+-------------------+----------------------+---------------------+---------------------+-------------------+------------------+------------------+-------------------+------------------+------------------+-------------------+------------------+------------------+-------------------+------------------+------------------+----------------------+---------------------+---------------------+-------------------+------------------+------------------+--------------------+-------------------+-------------------+----------------------+---------------------+---------------------+-------------------+------------------+------------------+-------------------+------------------+------------------+-------------------+------------------+------------------+-------------------+------------------+------------------+----------------------+---------------------+---------------------+---------------------+---------------------+---------------------+------------------+------------------------+-----------------------+-------------------------------------+------------------------+\n",
      "|clicked|regged|ordered|paid|           host_0009|           host_1019|host_2029|      host_date_0009|     host_date_1019|host_date_2029|       host_fre_0009|      host_fre_1019|host_fre_2029|label_0009|label_1019|label_date_0009|label_date_1019|clicked_products_0009|clicked_products_date_0009|sms_sent_products_0009|sms_sent_products_1019|sms_sent_products_date_0009|sms_sent_products_date_1019|called_products_0009|called_products_1019|called_products_date_0009|called_products_date_1019|picked_products_0009|picked_products_date_0009|outbound_sent_products_0009|outbound_sent_products_date_0009|keypress_30|keypress_60|keypress_90|keypress_120|rule_name_30|rule_name_60|rule_name_90|rule_name_120|semantic_30|semantic_60|semantic_90|semantic_120|duration_30|duration_60|duration_90|duration_120|interact_30|interact_60|interact_90|interact_120|say_count_30|say_count_60|say_count_90|say_count_120|freq_hangup_1_30|freq_hangup_1_60|freq_hangup_1_90|freq_hangup_1_120|freq_hangup_2_30|freq_hangup_2_60|freq_hangup_2_90|freq_hangup_2_120|hangup_1_prob_30|hangup_1_prob_60|hangup_1_prob_90|hangup_1_prob_120|         model_value|send_insure_30|send_insure_60|send_insure_90|send_insure_180|days_since_send_insure_date|send_loan_30|send_loan_60|send_loan_90|send_loan_180|days_since_send_loan_date|click_insure_30|click_insure_60|click_insure_90|click_insure_180|days_since_click_insure_date|click_loan_30|click_loan_60|click_loan_90|click_loan_180|days_since_click_loan_date|call_insure_30|call_insure_60|call_insure_90|call_insure_180|days_since_call_insure_date|call_loan_30|call_loan_60|call_loan_90|call_loan_180|days_since_call_loan_date|pick_insure_30|pick_insure_60|pick_insure_90|pick_insure_180|days_since_pick_insure_date|pick_loan_30|pick_loan_60|pick_loan_90|pick_loan_180|days_since_pick_loan_date|call_send_insure_30|call_send_insure_60|call_send_insure_90|call_send_insure_180|days_since_call_send_insure_date|call_send_loan_30|call_send_loan_60|call_send_loan_90|call_send_loan_180|days_since_call_send_loan_date|call_click_insure_30|call_click_insure_60|call_click_insure_90|call_click_insure_180|days_since_call_click_insure_date|call_click_loan_30|call_click_loan_60|call_click_loan_90|call_click_loan_180|days_since_call_click_loan_date|         phone_model|new_age|sex|hashouse|social|overdue|browser_family|os_family|device_brand|city_code|province_code|city_level|tax|active_duration|married|benke|kid|avg_price|income|consumption|shebao|fre_all_host_10|fre_all_host_20|fre_all_host_30|fre_ins_host_10|fre_ins_host_20|fre_ins_host_30|fre_loan_host_10|fre_loan_host_20|fre_loan_host_30|fre_credit_host_10|fre_credit_host_20|fre_credit_host_30|fre_car_host_10|fre_car_host_20|fre_car_host_30|fre_pro_host_10|fre_pro_host_20|fre_pro_host_30|fre_edu_host_10|fre_edu_host_20|fre_edu_host_30|fre_inv_host_10|fre_inv_host_20|fre_inv_host_30|fre_health_host_10|fre_health_host_20|fre_health_host_30|ins_fre_rate_10|ins_fre_rate_20|ins_fre_rate_30|loan_fre_rate_10|loan_fre_rate_20|loan_fre_rate_30|credit_fre_rate_10|credit_fre_rate_20|credit_fre_rate_30|car_fre_rate_10|car_fre_rate_20|car_fre_rate_30|pro_fre_rate_10|pro_fre_rate_20|pro_fre_rate_30|edu_fre_rate_10|edu_fre_rate_20|  edu_fre_rate_30|inv_fre_rate_10|inv_fre_rate_20|inv_fre_rate_30|health_fre_rate_10|health_fre_rate_20|health_fre_rate_30|fre_all_host_avg_30|fre_all_host_sd_30|fre_all_host_cv_30|fre_ins_host_avg_30|fre_ins_host_sd_30|fre_ins_host_cv_30|fre_loan_host_avg_30|fre_loan_host_sd_30|fre_loan_host_cv_30|fre_credit_host_avg_30|fre_credit_host_sd_30|fre_credit_host_cv_30|fre_car_host_avg_30|fre_car_host_sd_30|fre_car_host_cv_30|fre_pro_host_avg_30|fre_pro_host_sd_30|fre_pro_host_cv_30|fre_edu_host_avg_30|fre_edu_host_sd_30|fre_edu_host_cv_30|fre_inv_host_avg_30|fre_inv_host_sd_30|fre_inv_host_cv_30|fre_health_host_avg_30|fre_health_host_sd_30|fre_health_host_cv_30|ins_fre_rate_avg_30|ins_fre_rate_sd_30|ins_fre_rate_cv_30|loan_fre_rate_avg_30|loan_fre_rate_sd_30|loan_fre_rate_cv_30|credit_fre_rate_avg_30|credit_fre_rate_sd_30|credit_fre_rate_cv_30|car_fre_rate_avg_30|car_fre_rate_sd_30|car_fre_rate_cv_30|pro_fre_rate_avg_30|pro_fre_rate_sd_30|pro_fre_rate_cv_30|edu_fre_rate_avg_30|edu_fre_rate_sd_30|edu_fre_rate_cv_30|inv_fre_rate_avg_30|inv_fre_rate_sd_30|inv_fre_rate_cv_30|health_fre_rate_avg_30|health_fre_rate_sd_30|health_fre_rate_cv_30|MAYI_OFFLINE_bx_32140|MAYI_OFFLINE_bx_33118|MAYI_OFFLINE_bx_32017|PROJECT_HS_bx_bx01|MAYIYXD_GENERAL_bx_18184|MAYIYXD_GENERAL_bx_6134|PROJECT_TT_BX_EC_FLOW_RISK_ALIYUN_V21|MAYIYXD_GENERAL_bx_18825|\n",
      "+-------+------+-------+----+--------------------+--------------------+---------+--------------------+-------------------+--------------+--------------------+-------------------+-------------+----------+----------+---------------+---------------+---------------------+--------------------------+----------------------+----------------------+---------------------------+---------------------------+--------------------+--------------------+-------------------------+-------------------------+--------------------+-------------------------+---------------------------+--------------------------------+-----------+-----------+-----------+------------+------------+------------+------------+-------------+-----------+-----------+-----------+------------+-----------+-----------+-----------+------------+-----------+-----------+-----------+------------+------------+------------+------------+-------------+----------------+----------------+----------------+-----------------+----------------+----------------+----------------+-----------------+----------------+----------------+----------------+-----------------+--------------------+--------------+--------------+--------------+---------------+---------------------------+------------+------------+------------+-------------+-------------------------+---------------+---------------+---------------+----------------+----------------------------+-------------+-------------+-------------+--------------+--------------------------+--------------+--------------+--------------+---------------+---------------------------+------------+------------+------------+-------------+-------------------------+--------------+--------------+--------------+---------------+---------------------------+------------+------------+------------+-------------+-------------------------+-------------------+-------------------+-------------------+--------------------+--------------------------------+-----------------+-----------------+-----------------+------------------+------------------------------+--------------------+--------------------+--------------------+---------------------+---------------------------------+------------------+------------------+------------------+-------------------+-------------------------------+--------------------+-------+---+--------+------+-------+--------------+---------+------------+---------+-------------+----------+---+---------------+-------+-----+---+---------+------+-----------+------+---------------+---------------+---------------+---------------+---------------+---------------+----------------+----------------+----------------+------------------+------------------+------------------+---------------+---------------+---------------+---------------+---------------+---------------+---------------+---------------+---------------+---------------+---------------+---------------+------------------+------------------+------------------+---------------+---------------+---------------+----------------+----------------+----------------+------------------+------------------+------------------+---------------+---------------+---------------+---------------+---------------+---------------+---------------+---------------+-----------------+---------------+---------------+---------------+------------------+------------------+------------------+-------------------+------------------+------------------+-------------------+------------------+------------------+--------------------+-------------------+-------------------+----------------------+---------------------+---------------------+-------------------+------------------+------------------+-------------------+------------------+------------------+-------------------+------------------+------------------+-------------------+------------------+------------------+----------------------+---------------------+---------------------+-------------------+------------------+------------------+--------------------+-------------------+-------------------+----------------------+---------------------+---------------------+-------------------+------------------+------------------+-------------------+------------------+------------------+-------------------+------------------+------------------+-------------------+------------------+------------------+----------------------+---------------------+---------------------+---------------------+---------------------+---------------------+------------------+------------------------+-----------------------+-------------------------------------+------------------------+\n",
      "|      1|   0.0|    0.0| 0.0|DPI850_7b66babb61...|83f46f72350035c81...|      NaN|5D 7D 11D 11D 11D...|26D 26D 32D 32D 32D|           NaN|80F 10F 40F 20F 1...|20F 20F 10F 10F 10F|          NaN|       NaN|       NaN|            NaN|            NaN|                  NaN|                       NaN|                   NaN|                   NaN|                        NaN|                        NaN|IYBPAZX_MF_WPA_NE...|                 NaN|                       3D|                      NaN|                 NaN|                      NaN|                        NaN|                             NaN|        NaN|        NaN|        NaN|         NaN|         NaN|         NaN|         NaN|          NaN|        NaN|        NaN|        NaN|         NaN|        0.0|        0.0|        0.0|         0.0|        0.0|        0.0|        0.0|         0.0|         0.0|         0.0|         0.0|          0.0|             0.0|             0.0|             0.0|              0.0|             0.0|             0.0|             0.0|              0.0|             0.0|             0.0|             0.0|              0.0|MAYIYXD_GENERAL=b...|           0.0|           0.0|           0.0|            0.0|                        0.0|         0.0|         0.0|         0.0|          0.0|                      0.0|            0.0|            0.0|            0.0|             0.0|                         0.0|          0.0|          0.0|          0.0|           0.0|                       0.0|           1.0|           0.0|           0.0|            0.0|                        3.0|         0.0|         0.0|         0.0|          0.0|                      0.0|           0.0|           0.0|           0.0|            0.0|                        0.0|         0.0|         0.0|         0.0|          0.0|                      0.0|                0.0|                0.0|                0.0|                 0.0|                             0.0|              0.0|              0.0|              0.0|               0.0|                           0.0|                 0.0|                 0.0|                 0.0|                  0.0|                              0.0|               0.0|               0.0|               0.0|                0.0|                            0.0|HONOR_zhuangku.rp...|    0.0|NaN|     NaN|   NaN|    NaN|           NaN|      NaN|         NaN|   510600|           51|         4|NaN|         1381.0|    NaN|  NaN|NaN|   1399.0|   NaN|        NaN|   NaN|           90.0|          160.0|           12.0|           90.0|          160.0|            9.0|             0.0|             0.0|             0.0|               0.0|               0.0|               0.0|            0.0|            0.0|            0.0|            0.0|            0.0|            0.0|            0.0|            0.0|            2.0|            0.0|            0.0|            0.0|               0.0|               0.0|               0.0|            1.0|            1.0|           0.75|             0.0|             0.0|             0.0|               0.0|               0.0|               0.0|            0.0|            0.0|            0.0|            0.0|            0.0|            0.0|            0.0|            0.0|0.166666666666667|            0.0|            0.0|            0.0|               0.0|               0.0|               0.0|   87.3333333333333|  60.4501631281688|  0.69217744039888|   86.3333333333333|  61.6999909958574| 0.714671710376727|                 0.0|                0.0|                0.0|                   0.0|                  0.0|                  0.0|                0.0|               0.0|               0.0|                0.0|               0.0|               0.0|  0.666666666666667| 0.942809041582063|  1.41421356237309|                0.0|               0.0|               0.0|                   0.0|                  0.0|                  0.0|  0.916666666666667| 0.117851130197758| 0.128564869306645|                 0.0|                0.0|                0.0|                   0.0|                  0.0|                  0.0|                0.0|               0.0|               0.0|                0.0|               0.0|               0.0| 0.0555555555555556|0.0785674201318386|  1.41421356237309|                0.0|               0.0|               0.0|                   0.0|                  0.0|                  0.0|                  0.0|                  0.0|                  0.0|               0.0|                     0.0|                    0.0|                                  0.0|                     0.0|\n",
      "+-------+------+-------+----+--------------------+--------------------+---------+--------------------+-------------------+--------------+--------------------+-------------------+-------------+----------+----------+---------------+---------------+---------------------+--------------------------+----------------------+----------------------+---------------------------+---------------------------+--------------------+--------------------+-------------------------+-------------------------+--------------------+-------------------------+---------------------------+--------------------------------+-----------+-----------+-----------+------------+------------+------------+------------+-------------+-----------+-----------+-----------+------------+-----------+-----------+-----------+------------+-----------+-----------+-----------+------------+------------+------------+------------+-------------+----------------+----------------+----------------+-----------------+----------------+----------------+----------------+-----------------+----------------+----------------+----------------+-----------------+--------------------+--------------+--------------+--------------+---------------+---------------------------+------------+------------+------------+-------------+-------------------------+---------------+---------------+---------------+----------------+----------------------------+-------------+-------------+-------------+--------------+--------------------------+--------------+--------------+--------------+---------------+---------------------------+------------+------------+------------+-------------+-------------------------+--------------+--------------+--------------+---------------+---------------------------+------------+------------+------------+-------------+-------------------------+-------------------+-------------------+-------------------+--------------------+--------------------------------+-----------------+-----------------+-----------------+------------------+------------------------------+--------------------+--------------------+--------------------+---------------------+---------------------------------+------------------+------------------+------------------+-------------------+-------------------------------+--------------------+-------+---+--------+------+-------+--------------+---------+------------+---------+-------------+----------+---+---------------+-------+-----+---+---------+------+-----------+------+---------------+---------------+---------------+---------------+---------------+---------------+----------------+----------------+----------------+------------------+------------------+------------------+---------------+---------------+---------------+---------------+---------------+---------------+---------------+---------------+---------------+---------------+---------------+---------------+------------------+------------------+------------------+---------------+---------------+---------------+----------------+----------------+----------------+------------------+------------------+------------------+---------------+---------------+---------------+---------------+---------------+---------------+---------------+---------------+-----------------+---------------+---------------+---------------+------------------+------------------+------------------+-------------------+------------------+------------------+-------------------+------------------+------------------+--------------------+-------------------+-------------------+----------------------+---------------------+---------------------+-------------------+------------------+------------------+-------------------+------------------+------------------+-------------------+------------------+------------------+-------------------+------------------+------------------+----------------------+---------------------+---------------------+-------------------+------------------+------------------+--------------------+-------------------+-------------------+----------------------+---------------------+---------------------+-------------------+------------------+------------------+-------------------+------------------+------------------+-------------------+------------------+------------------+-------------------+------------------+------------------+----------------------+---------------------+---------------------+---------------------+---------------------+---------------------+------------------+------------------------+-----------------------+-------------------------------------+------------------------+\n",
      "only showing top 1 row\n",
      "\n"
     ]
    }
   ],
   "source": [
    "@F.udf(T.ArrayType(T.IntegerType()))\n",
    "def get_label(label1, label2, label3):\n",
    "    return [label1, label2, label3]\n",
    "\n",
    "\n",
    "label_data_new = label_data_new.fillna('', subset=text_features).fillna(0, subset=['regged', 'ordered', 'paid'] + numerical_features)\n",
    "    # .withColumn('hosts', F.concat_ws(' ', *[col for col in label_data_new.columns if 'host_' in col])) \\\n",
    "    # .withColumn('products', F.concat_ws(' ', *[col for col in label_data_new.columns if 'product_' in col])) \\\n",
    "    # .withColumn('labels', F.concat_ws(' ', *[col for col in label_data_new.columns if 'label_' in col])) \\\n",
    "    # .withColumn('keypress', F.concat_ws(' ', *[col for col in label_data_new.columns if 'keypress_' in col])) \\\n",
    "    # .withColumn('rules', F.concat_ws(' ', *[col for col in label_data_new.columns if 'rule_' in col])) \\\n",
    "    # .withColumn('semantics', F.concat_ws(' ', *[col for col in label_data_new.columns if 'semantic_' in col]))\n",
    "\n",
    "label_data_new.show(1)"
   ]
  },
  {
   "cell_type": "code",
   "execution_count": 10,
   "id": "990f6c7f",
   "metadata": {},
   "outputs": [],
   "source": [
    "label_data_new = label_data_new.fillna(0, subset=['regged', 'ordered', 'paid'] + numerical_features)"
   ]
  },
  {
   "cell_type": "code",
   "execution_count": null,
   "id": "63ba68c6",
   "metadata": {},
   "outputs": [],
   "source": [
    "from pyspark.ml import Pipeline\n",
    "\n",
    "def save_pipeline_model():\n",
    "    \"\"\"\n",
    "    Save the pipeline model to the specified path.\n",
    "    \"\"\"\n",
    "    string_indexers = [E.StringIndexer(inputCol=col, outputCol=col + \"_index\", handleInvalid='keep') for col in categorical_features]\n",
    "    one_hot_encoders = [E.OneHotEncoder(inputCols=[col + \"_index\"], outputCols=[col + \"_ohe\"], handleInvalid='keep') for col in categorical_features]\n",
    "    tokenizers = [E.Tokenizer(inputCol=col, outputCol=col + \"_token\") for col in text_features]\n",
    "    hashing_tfs = [E.HashingTF(inputCol=col + \"_token\", outputCol=col + \"_hash\", numFeatures=16) for col in text_features]\n",
    "    idfs = [E.IDF(inputCol=col + \"_hash\", outputCol=col + \"_tfidf\") for col in text_features]\n",
    "    median_imputer = E.Imputer(inputCols=['new_age', 'active_duration', 'avg_price'], outputCols=['new_age', 'active_duration', 'avg_price'], strategy=\"median\", missingValue=0)\n",
    "    selector = E.ChiSqSelector(\n",
    "        numTopFeatures=100,\n",
    "        featuresCol=\"features\",\n",
    "        labelCol=\"label\",\n",
    "        outputCol=\"selected_features\"\n",
    "    )\n",
    "    vector_assembler = E.VectorAssembler(\n",
    "        inputCols=numerical_features + [col + \"_ohe\" for col in categorical_features] + [col + \"_tfidf\" for col in text_features],\n",
    "        outputCol=\"features\",\n",
    "        handleInvalid='keep'\n",
    "    )\n",
    "    pipeline = Pipeline(stages=string_indexers + one_hot_encoders + tokenizers + hashing_tfs + idfs + [median_imputer, vector_assembler])\n",
    "    pipeline_model = pipeline.fit(label_data_new)\n",
    "    return pipeline_model"
   ]
  },
  {
   "cell_type": "code",
   "execution_count": 41,
   "id": "9fdbcf91",
   "metadata": {},
   "outputs": [],
   "source": [
    "pipeline_model = save_pipeline_model()\n",
    "processed_data = pipeline_model.transform(label_data_new)"
   ]
  },
  {
   "cell_type": "code",
   "execution_count": 16,
   "id": "ad3debfd",
   "metadata": {},
   "outputs": [
    {
     "name": "stdout",
     "output_type": "stream",
     "text": [
      "+-------+------+-------+----+--------------------+--------------------+---------+--------------------+-------------------+--------------+--------------------+-------------------+-------------+----------+----------+---------------+---------------+---------------------+--------------------------+----------------------+----------------------+---------------------------+---------------------------+--------------------+--------------------+-------------------------+-------------------------+--------------------+-------------------------+---------------------------+--------------------------------+-----------+-----------+-----------+------------+------------+------------+------------+-------------+-----------+-----------+-----------+------------+-----------+-----------+-----------+------------+-----------+-----------+-----------+------------+------------+------------+------------+-------------+----------------+----------------+----------------+-----------------+----------------+----------------+----------------+-----------------+----------------+----------------+----------------+-----------------+--------------------+--------------+--------------+--------------+---------------+---------------------------+------------+------------+------------+-------------+-------------------------+---------------+---------------+---------------+----------------+----------------------------+-------------+-------------+-------------+--------------+--------------------------+--------------+--------------+--------------+---------------+---------------------------+------------+------------+------------+-------------+-------------------------+--------------+--------------+--------------+---------------+---------------------------+------------+------------+------------+-------------+-------------------------+-------------------+-------------------+-------------------+--------------------+--------------------------------+-----------------+-----------------+-----------------+------------------+------------------------------+--------------------+--------------------+--------------------+---------------------+---------------------------------+------------------+------------------+------------------+-------------------+-------------------------------+--------------------+-------+---+--------+------+-------+--------------+---------+------------+---------+-------------+----------+---+---------------+-------+-----+---+---------+------+-----------+------+---------------+---------------+---------------+---------------+---------------+---------------+----------------+----------------+----------------+------------------+------------------+------------------+---------------+---------------+---------------+---------------+---------------+---------------+---------------+---------------+---------------+---------------+---------------+---------------+------------------+------------------+------------------+---------------+---------------+---------------+----------------+----------------+----------------+------------------+------------------+------------------+---------------+---------------+---------------+---------------+---------------+---------------+---------------+---------------+-----------------+---------------+---------------+---------------+------------------+------------------+------------------+-------------------+------------------+------------------+-------------------+------------------+------------------+--------------------+-------------------+-------------------+----------------------+---------------------+---------------------+-------------------+------------------+------------------+-------------------+------------------+------------------+-------------------+------------------+------------------+-------------------+------------------+------------------+----------------------+---------------------+---------------------+-------------------+------------------+------------------+--------------------+-------------------+-------------------+----------------------+---------------------+---------------------+-------------------+------------------+------------------+-------------------+------------------+------------------+-------------------+------------------+------------------+-------------------+------------------+------------------+----------------------+---------------------+---------------------+---------------------+---------------------+---------------------+------------------+------------------------+-----------------------+-------------------------------------+------------------------+-----------------+--------------------+---------------+------------------+---------------+-------------------+---------+--------------+------------+-------------+---------+-------------+-----------+---------+------------+-----------------+------------+---------------+------------------+-------------+----------------+-----------------+-----------------+-------------+-------------+-------------+-------------+-------------+-------------+-------------+-------------+-------------+---------------+-------------+--------------------+--------------------+---------------+--------------------+--------------------+--------------------+--------------------+--------------------+-------------------+----------------+----------------+---------------------+---------------------+---------------------------+--------------------------------+----------------------------+----------------------------+---------------------------------+---------------------------------+--------------------------+--------------------------+-------------------------------+-------------------------------+--------------------------+-------------------------------+---------------------------------+--------------------------------------+-----------------+-----------------+-----------------+------------------+------------------+------------------+------------------+-------------------+-----------------+-----------------+-----------------+------------------+--------------------+--------------------+--------------------+--------------+--------------------+--------------------+-------------------+--------------------+--------------------+------------------+---------------+---------------+--------------------+--------------------+--------------------------+-------------------------------+---------------------------+---------------------------+--------------------------------+--------------------------------+-------------------------+-------------------------+------------------------------+------------------------------+-------------------------+------------------------------+--------------------------------+-------------------------------------+----------------+----------------+----------------+-----------------+-----------------+-----------------+-----------------+------------------+----------------+----------------+----------------+-----------------+--------------------+--------------------+--------------------+--------------------+--------------------+--------------------+--------------------+--------------------+--------------------+--------------------+----------------+----------------+---------------------+---------------------+---------------------------+--------------------------------+----------------------------+----------------------------+---------------------------------+---------------------------------+--------------------------+--------------------------+-------------------------------+-------------------------------+--------------------------+-------------------------------+---------------------------------+--------------------------------------+--------------------+--------------------+--------------------+--------------------+--------------------+--------------------+--------------------+--------------------+--------------------+--------------------+--------------------+--------------------+--------------------+--------------------+\n",
      "|clicked|regged|ordered|paid|           host_0009|           host_1019|host_2029|      host_date_0009|     host_date_1019|host_date_2029|       host_fre_0009|      host_fre_1019|host_fre_2029|label_0009|label_1019|label_date_0009|label_date_1019|clicked_products_0009|clicked_products_date_0009|sms_sent_products_0009|sms_sent_products_1019|sms_sent_products_date_0009|sms_sent_products_date_1019|called_products_0009|called_products_1019|called_products_date_0009|called_products_date_1019|picked_products_0009|picked_products_date_0009|outbound_sent_products_0009|outbound_sent_products_date_0009|keypress_30|keypress_60|keypress_90|keypress_120|rule_name_30|rule_name_60|rule_name_90|rule_name_120|semantic_30|semantic_60|semantic_90|semantic_120|duration_30|duration_60|duration_90|duration_120|interact_30|interact_60|interact_90|interact_120|say_count_30|say_count_60|say_count_90|say_count_120|freq_hangup_1_30|freq_hangup_1_60|freq_hangup_1_90|freq_hangup_1_120|freq_hangup_2_30|freq_hangup_2_60|freq_hangup_2_90|freq_hangup_2_120|hangup_1_prob_30|hangup_1_prob_60|hangup_1_prob_90|hangup_1_prob_120|         model_value|send_insure_30|send_insure_60|send_insure_90|send_insure_180|days_since_send_insure_date|send_loan_30|send_loan_60|send_loan_90|send_loan_180|days_since_send_loan_date|click_insure_30|click_insure_60|click_insure_90|click_insure_180|days_since_click_insure_date|click_loan_30|click_loan_60|click_loan_90|click_loan_180|days_since_click_loan_date|call_insure_30|call_insure_60|call_insure_90|call_insure_180|days_since_call_insure_date|call_loan_30|call_loan_60|call_loan_90|call_loan_180|days_since_call_loan_date|pick_insure_30|pick_insure_60|pick_insure_90|pick_insure_180|days_since_pick_insure_date|pick_loan_30|pick_loan_60|pick_loan_90|pick_loan_180|days_since_pick_loan_date|call_send_insure_30|call_send_insure_60|call_send_insure_90|call_send_insure_180|days_since_call_send_insure_date|call_send_loan_30|call_send_loan_60|call_send_loan_90|call_send_loan_180|days_since_call_send_loan_date|call_click_insure_30|call_click_insure_60|call_click_insure_90|call_click_insure_180|days_since_call_click_insure_date|call_click_loan_30|call_click_loan_60|call_click_loan_90|call_click_loan_180|days_since_call_click_loan_date|         phone_model|new_age|sex|hashouse|social|overdue|browser_family|os_family|device_brand|city_code|province_code|city_level|tax|active_duration|married|benke|kid|avg_price|income|consumption|shebao|fre_all_host_10|fre_all_host_20|fre_all_host_30|fre_ins_host_10|fre_ins_host_20|fre_ins_host_30|fre_loan_host_10|fre_loan_host_20|fre_loan_host_30|fre_credit_host_10|fre_credit_host_20|fre_credit_host_30|fre_car_host_10|fre_car_host_20|fre_car_host_30|fre_pro_host_10|fre_pro_host_20|fre_pro_host_30|fre_edu_host_10|fre_edu_host_20|fre_edu_host_30|fre_inv_host_10|fre_inv_host_20|fre_inv_host_30|fre_health_host_10|fre_health_host_20|fre_health_host_30|ins_fre_rate_10|ins_fre_rate_20|ins_fre_rate_30|loan_fre_rate_10|loan_fre_rate_20|loan_fre_rate_30|credit_fre_rate_10|credit_fre_rate_20|credit_fre_rate_30|car_fre_rate_10|car_fre_rate_20|car_fre_rate_30|pro_fre_rate_10|pro_fre_rate_20|pro_fre_rate_30|edu_fre_rate_10|edu_fre_rate_20|  edu_fre_rate_30|inv_fre_rate_10|inv_fre_rate_20|inv_fre_rate_30|health_fre_rate_10|health_fre_rate_20|health_fre_rate_30|fre_all_host_avg_30|fre_all_host_sd_30|fre_all_host_cv_30|fre_ins_host_avg_30|fre_ins_host_sd_30|fre_ins_host_cv_30|fre_loan_host_avg_30|fre_loan_host_sd_30|fre_loan_host_cv_30|fre_credit_host_avg_30|fre_credit_host_sd_30|fre_credit_host_cv_30|fre_car_host_avg_30|fre_car_host_sd_30|fre_car_host_cv_30|fre_pro_host_avg_30|fre_pro_host_sd_30|fre_pro_host_cv_30|fre_edu_host_avg_30|fre_edu_host_sd_30|fre_edu_host_cv_30|fre_inv_host_avg_30|fre_inv_host_sd_30|fre_inv_host_cv_30|fre_health_host_avg_30|fre_health_host_sd_30|fre_health_host_cv_30|ins_fre_rate_avg_30|ins_fre_rate_sd_30|ins_fre_rate_cv_30|loan_fre_rate_avg_30|loan_fre_rate_sd_30|loan_fre_rate_cv_30|credit_fre_rate_avg_30|credit_fre_rate_sd_30|credit_fre_rate_cv_30|car_fre_rate_avg_30|car_fre_rate_sd_30|car_fre_rate_cv_30|pro_fre_rate_avg_30|pro_fre_rate_sd_30|pro_fre_rate_cv_30|edu_fre_rate_avg_30|edu_fre_rate_sd_30|edu_fre_rate_cv_30|inv_fre_rate_avg_30|inv_fre_rate_sd_30|inv_fre_rate_cv_30|health_fre_rate_avg_30|health_fre_rate_sd_30|health_fre_rate_cv_30|MAYI_OFFLINE_bx_32140|MAYI_OFFLINE_bx_33118|MAYI_OFFLINE_bx_32017|PROJECT_HS_bx_bx01|MAYIYXD_GENERAL_bx_18184|MAYIYXD_GENERAL_bx_6134|PROJECT_TT_BX_EC_FLOW_RISK_ALIYUN_V21|MAYIYXD_GENERAL_bx_18825|phone_model_index|browser_family_index|os_family_index|device_brand_index|city_code_index|province_code_index|sex_index|hashouse_index|social_index|overdue_index|tax_index|married_index|benke_index|kid_index|income_index|consumption_index|shebao_index|phone_model_ohe|browser_family_ohe|os_family_ohe|device_brand_ohe|    city_code_ohe|province_code_ohe|      sex_ohe| hashouse_ohe|   social_ohe|  overdue_ohe|      tax_ohe|  married_ohe|    benke_ohe|      kid_ohe|   income_ohe|consumption_ohe|   shebao_ohe|     host_0009_token|     host_1019_token|host_2029_token|host_date_0009_token|host_date_1019_token|host_date_2029_token| host_fre_0009_token| host_fre_1019_token|host_fre_2029_token|label_0009_token|label_1019_token|label_date_0009_token|label_date_1019_token|clicked_products_0009_token|clicked_products_date_0009_token|sms_sent_products_0009_token|sms_sent_products_1019_token|sms_sent_products_date_0009_token|sms_sent_products_date_1019_token|called_products_0009_token|called_products_1019_token|called_products_date_0009_token|called_products_date_1019_token|picked_products_0009_token|picked_products_date_0009_token|outbound_sent_products_0009_token|outbound_sent_products_date_0009_token|keypress_30_token|keypress_60_token|keypress_90_token|keypress_120_token|rule_name_30_token|rule_name_60_token|rule_name_90_token|rule_name_120_token|semantic_30_token|semantic_60_token|semantic_90_token|semantic_120_token|   model_value_token|      host_0009_hash|      host_1019_hash|host_2029_hash| host_date_0009_hash| host_date_1019_hash|host_date_2029_hash|  host_fre_0009_hash|  host_fre_1019_hash|host_fre_2029_hash|label_0009_hash|label_1019_hash|label_date_0009_hash|label_date_1019_hash|clicked_products_0009_hash|clicked_products_date_0009_hash|sms_sent_products_0009_hash|sms_sent_products_1019_hash|sms_sent_products_date_0009_hash|sms_sent_products_date_1019_hash|called_products_0009_hash|called_products_1019_hash|called_products_date_0009_hash|called_products_date_1019_hash|picked_products_0009_hash|picked_products_date_0009_hash|outbound_sent_products_0009_hash|outbound_sent_products_date_0009_hash|keypress_30_hash|keypress_60_hash|keypress_90_hash|keypress_120_hash|rule_name_30_hash|rule_name_60_hash|rule_name_90_hash|rule_name_120_hash|semantic_30_hash|semantic_60_hash|semantic_90_hash|semantic_120_hash|    model_value_hash|     host_0009_tfidf|     host_1019_tfidf|     host_2029_tfidf|host_date_0009_tfidf|host_date_1019_tfidf|host_date_2029_tfidf| host_fre_0009_tfidf| host_fre_1019_tfidf| host_fre_2029_tfidf|label_0009_tfidf|label_1019_tfidf|label_date_0009_tfidf|label_date_1019_tfidf|clicked_products_0009_tfidf|clicked_products_date_0009_tfidf|sms_sent_products_0009_tfidf|sms_sent_products_1019_tfidf|sms_sent_products_date_0009_tfidf|sms_sent_products_date_1019_tfidf|called_products_0009_tfidf|called_products_1019_tfidf|called_products_date_0009_tfidf|called_products_date_1019_tfidf|picked_products_0009_tfidf|picked_products_date_0009_tfidf|outbound_sent_products_0009_tfidf|outbound_sent_products_date_0009_tfidf|   keypress_30_tfidf|   keypress_60_tfidf|   keypress_90_tfidf|  keypress_120_tfidf|  rule_name_30_tfidf|  rule_name_60_tfidf|  rule_name_90_tfidf| rule_name_120_tfidf|   semantic_30_tfidf|   semantic_60_tfidf|   semantic_90_tfidf|  semantic_120_tfidf|   model_value_tfidf|            features|\n",
      "+-------+------+-------+----+--------------------+--------------------+---------+--------------------+-------------------+--------------+--------------------+-------------------+-------------+----------+----------+---------------+---------------+---------------------+--------------------------+----------------------+----------------------+---------------------------+---------------------------+--------------------+--------------------+-------------------------+-------------------------+--------------------+-------------------------+---------------------------+--------------------------------+-----------+-----------+-----------+------------+------------+------------+------------+-------------+-----------+-----------+-----------+------------+-----------+-----------+-----------+------------+-----------+-----------+-----------+------------+------------+------------+------------+-------------+----------------+----------------+----------------+-----------------+----------------+----------------+----------------+-----------------+----------------+----------------+----------------+-----------------+--------------------+--------------+--------------+--------------+---------------+---------------------------+------------+------------+------------+-------------+-------------------------+---------------+---------------+---------------+----------------+----------------------------+-------------+-------------+-------------+--------------+--------------------------+--------------+--------------+--------------+---------------+---------------------------+------------+------------+------------+-------------+-------------------------+--------------+--------------+--------------+---------------+---------------------------+------------+------------+------------+-------------+-------------------------+-------------------+-------------------+-------------------+--------------------+--------------------------------+-----------------+-----------------+-----------------+------------------+------------------------------+--------------------+--------------------+--------------------+---------------------+---------------------------------+------------------+------------------+------------------+-------------------+-------------------------------+--------------------+-------+---+--------+------+-------+--------------+---------+------------+---------+-------------+----------+---+---------------+-------+-----+---+---------+------+-----------+------+---------------+---------------+---------------+---------------+---------------+---------------+----------------+----------------+----------------+------------------+------------------+------------------+---------------+---------------+---------------+---------------+---------------+---------------+---------------+---------------+---------------+---------------+---------------+---------------+------------------+------------------+------------------+---------------+---------------+---------------+----------------+----------------+----------------+------------------+------------------+------------------+---------------+---------------+---------------+---------------+---------------+---------------+---------------+---------------+-----------------+---------------+---------------+---------------+------------------+------------------+------------------+-------------------+------------------+------------------+-------------------+------------------+------------------+--------------------+-------------------+-------------------+----------------------+---------------------+---------------------+-------------------+------------------+------------------+-------------------+------------------+------------------+-------------------+------------------+------------------+-------------------+------------------+------------------+----------------------+---------------------+---------------------+-------------------+------------------+------------------+--------------------+-------------------+-------------------+----------------------+---------------------+---------------------+-------------------+------------------+------------------+-------------------+------------------+------------------+-------------------+------------------+------------------+-------------------+------------------+------------------+----------------------+---------------------+---------------------+---------------------+---------------------+---------------------+------------------+------------------------+-----------------------+-------------------------------------+------------------------+-----------------+--------------------+---------------+------------------+---------------+-------------------+---------+--------------+------------+-------------+---------+-------------+-----------+---------+------------+-----------------+------------+---------------+------------------+-------------+----------------+-----------------+-----------------+-------------+-------------+-------------+-------------+-------------+-------------+-------------+-------------+-------------+---------------+-------------+--------------------+--------------------+---------------+--------------------+--------------------+--------------------+--------------------+--------------------+-------------------+----------------+----------------+---------------------+---------------------+---------------------------+--------------------------------+----------------------------+----------------------------+---------------------------------+---------------------------------+--------------------------+--------------------------+-------------------------------+-------------------------------+--------------------------+-------------------------------+---------------------------------+--------------------------------------+-----------------+-----------------+-----------------+------------------+------------------+------------------+------------------+-------------------+-----------------+-----------------+-----------------+------------------+--------------------+--------------------+--------------------+--------------+--------------------+--------------------+-------------------+--------------------+--------------------+------------------+---------------+---------------+--------------------+--------------------+--------------------------+-------------------------------+---------------------------+---------------------------+--------------------------------+--------------------------------+-------------------------+-------------------------+------------------------------+------------------------------+-------------------------+------------------------------+--------------------------------+-------------------------------------+----------------+----------------+----------------+-----------------+-----------------+-----------------+-----------------+------------------+----------------+----------------+----------------+-----------------+--------------------+--------------------+--------------------+--------------------+--------------------+--------------------+--------------------+--------------------+--------------------+--------------------+----------------+----------------+---------------------+---------------------+---------------------------+--------------------------------+----------------------------+----------------------------+---------------------------------+---------------------------------+--------------------------+--------------------------+-------------------------------+-------------------------------+--------------------------+-------------------------------+---------------------------------+--------------------------------------+--------------------+--------------------+--------------------+--------------------+--------------------+--------------------+--------------------+--------------------+--------------------+--------------------+--------------------+--------------------+--------------------+--------------------+\n",
      "|      1|   0.0|    0.0| 0.0|DPI850_7b66babb61...|83f46f72350035c81...|      NaN|5D 7D 11D 11D 11D...|26D 26D 32D 32D 32D|           NaN|80F 10F 40F 20F 1...|20F 20F 10F 10F 10F|          NaN|       NaN|       NaN|            NaN|            NaN|                  NaN|                       NaN|                   NaN|                   NaN|                        NaN|                        NaN|IYBPAZX_MF_WPA_NE...|                 NaN|                       3D|                      NaN|                 NaN|                      NaN|                        NaN|                             NaN|        NaN|        NaN|        NaN|         NaN|         NaN|         NaN|         NaN|          NaN|        NaN|        NaN|        NaN|         NaN|        NaN|        NaN|        NaN|         NaN|        NaN|        NaN|        NaN|         NaN|         NaN|         NaN|         NaN|          NaN|             NaN|             NaN|             NaN|              NaN|             NaN|             NaN|             NaN|              NaN|             NaN|             NaN|             NaN|              NaN|MAYIYXD_GENERAL=b...|           NaN|           NaN|           NaN|            NaN|                        NaN|         NaN|         NaN|         NaN|          NaN|                      NaN|            NaN|            NaN|            NaN|             NaN|                         NaN|          NaN|          NaN|          NaN|           NaN|                       NaN|           1.0|           NaN|           NaN|            NaN|                        3.0|         NaN|         NaN|         NaN|          NaN|                      NaN|           NaN|           NaN|           NaN|            NaN|                        NaN|         NaN|         NaN|         NaN|          NaN|                      NaN|                NaN|                NaN|                NaN|                 NaN|                             NaN|              NaN|              NaN|              NaN|               NaN|                           NaN|                 NaN|                 NaN|                 NaN|                  NaN|                              NaN|               NaN|               NaN|               NaN|                NaN|                            NaN|HONOR_zhuangku.rp...|   50.0|NaN|     NaN|   NaN|    NaN|           NaN|      NaN|         NaN|   510600|           51|         4|NaN|         1381.0|    NaN|  NaN|NaN|   1399.0|   NaN|        NaN|   NaN|           90.0|          160.0|           12.0|           90.0|          160.0|            9.0|             0.0|             0.0|             0.0|               0.0|               0.0|               0.0|            0.0|            0.0|            0.0|            0.0|            0.0|            0.0|            0.0|            0.0|            2.0|            0.0|            0.0|            0.0|               0.0|               0.0|               0.0|            1.0|            1.0|           0.75|             0.0|             0.0|             0.0|               0.0|               0.0|               0.0|            0.0|            0.0|            0.0|            0.0|            0.0|            0.0|            0.0|            0.0|0.166666666666667|            0.0|            0.0|            0.0|               0.0|               0.0|               0.0|   87.3333333333333|  60.4501631281688|  0.69217744039888|   86.3333333333333|  61.6999909958574| 0.714671710376727|                 0.0|                0.0|                NaN|                   0.0|                  0.0|                  NaN|                0.0|               0.0|               NaN|                0.0|               0.0|               NaN|  0.666666666666667| 0.942809041582063|  1.41421356237309|                0.0|               0.0|               NaN|                   0.0|                  0.0|                  NaN|  0.916666666666667| 0.117851130197758| 0.128564869306645|                 0.0|                0.0|                NaN|                   0.0|                  0.0|                  NaN|                0.0|               0.0|               NaN|                0.0|               0.0|               NaN| 0.0555555555555556|0.0785674201318386|  1.41421356237309|                0.0|               0.0|               NaN|                   0.0|                  0.0|                  NaN|                  NaN|                  NaN|                  NaN|               NaN|                     NaN|                    NaN|                                  NaN|                     NaN|              3.0|                 0.0|            0.0|               0.0|          122.0|                4.0|      0.0|           1.0|         1.0|          3.0|      2.0|          2.0|        2.0|      2.0|         3.0|              3.0|         2.0| (35,[3],[1.0])|    (15,[0],[1.0])|(6,[0],[1.0])|  (17,[0],[1.0])|(279,[122],[1.0])|   (25,[4],[1.0])|(4,[0],[1.0])|(2,[1],[1.0])|(2,[1],[1.0])|(4,[3],[1.0])|(3,[2],[1.0])|(3,[2],[1.0])|(3,[2],[1.0])|(3,[2],[1.0])|(4,[3],[1.0])|  (4,[3],[1.0])|(3,[2],[1.0])|[dpi850_7b66babb6...|[83f46f72350035c8...|          [nan]|[5d, 7d, 11d, 11d...|[26d, 26d, 32d, 3...|               [nan]|[80f, 10f, 40f, 2...|[20f, 20f, 10f, 1...|              [nan]|           [nan]|           [nan]|                [nan]|                [nan]|                      [nan]|                           [nan]|                       [nan]|                       [nan]|                            [nan]|                            [nan]|      [iybpazx_mf_wpa_n...|                     [nan]|                           [3d]|                          [nan]|                     [nan]|                          [nan]|                            [nan]|                                 [nan]|            [nan]|            [nan]|            [nan]|             [nan]|             [nan]|             [nan]|             [nan]|              [nan]|            [nan]|            [nan]|            [nan]|             [nan]|[mayiyxd_general=...|(16,[0,1,4,5,6,12...|(16,[4,5,8,10],[2...|(16,[3],[1.0])|(16,[0,7,15],[6.0...|(16,[0,3],[2.0,3.0])|     (16,[3],[1.0])|(16,[0,1,10,12],[...|(16,[0,12],[2.0,3...|    (16,[3],[1.0])| (16,[3],[1.0])| (16,[3],[1.0])|      (16,[3],[1.0])|      (16,[3],[1.0])|            (16,[3],[1.0])|                 (16,[3],[1.0])|             (16,[3],[1.0])|             (16,[3],[1.0])|                  (16,[3],[1.0])|                  (16,[3],[1.0])|           (16,[4],[1.0])|           (16,[3],[1.0])|               (16,[13],[1.0])|                (16,[3],[1.0])|           (16,[3],[1.0])|                (16,[3],[1.0])|                  (16,[3],[1.0])|                       (16,[3],[1.0])|  (16,[3],[1.0])|  (16,[3],[1.0])|  (16,[3],[1.0])|   (16,[3],[1.0])|   (16,[3],[1.0])|   (16,[3],[1.0])|   (16,[3],[1.0])|    (16,[3],[1.0])|  (16,[3],[1.0])|  (16,[3],[1.0])|  (16,[3],[1.0])|   (16,[3],[1.0])|(16,[10,15],[1.0,...|(16,[0,1,4,5,6,12...|(16,[4,5,8,10],[5...|(16,[3],[0.059630...|(16,[0,7,15],[11....|(16,[0,3],[6.4574...|(16,[3],[0.099210...|(16,[0,1,10,12],[...|(16,[0,12],[6.474...|(16,[3],[0.115606...|  (16,[3],[0.0])|  (16,[3],[0.0])|       (16,[3],[0.0])|       (16,[3],[0.0])|       (16,[3],[0.175506...|            (16,[3],[0.159695...|        (16,[3],[0.433442...|        (16,[3],[0.048020...|             (16,[3],[0.351754...|             (16,[3],[0.035665...|      (16,[4],[0.584508...|      (16,[3],[0.354887...|           (16,[13],[0.51813...|           (16,[3],[0.200839...|      (16,[3],[0.772738...|           (16,[3],[0.686399...|             (16,[3],[0.483499...|                  (16,[3],[0.446847...|(16,[3],[0.337183...|(16,[3],[0.107469...|(16,[3],[0.072832...|(16,[3],[0.053005...|(16,[3],[0.507389...|(16,[3],[0.193418...|(16,[3],[0.147851...|(16,[3],[0.112002...|(16,[3],[0.189524...|(16,[3],[0.081242...|(16,[3],[0.063591...|(16,[3],[0.053005...|(16,[10,15],[1.03...|(1250,[0,1,2,3,4,...|\n",
      "+-------+------+-------+----+--------------------+--------------------+---------+--------------------+-------------------+--------------+--------------------+-------------------+-------------+----------+----------+---------------+---------------+---------------------+--------------------------+----------------------+----------------------+---------------------------+---------------------------+--------------------+--------------------+-------------------------+-------------------------+--------------------+-------------------------+---------------------------+--------------------------------+-----------+-----------+-----------+------------+------------+------------+------------+-------------+-----------+-----------+-----------+------------+-----------+-----------+-----------+------------+-----------+-----------+-----------+------------+------------+------------+------------+-------------+----------------+----------------+----------------+-----------------+----------------+----------------+----------------+-----------------+----------------+----------------+----------------+-----------------+--------------------+--------------+--------------+--------------+---------------+---------------------------+------------+------------+------------+-------------+-------------------------+---------------+---------------+---------------+----------------+----------------------------+-------------+-------------+-------------+--------------+--------------------------+--------------+--------------+--------------+---------------+---------------------------+------------+------------+------------+-------------+-------------------------+--------------+--------------+--------------+---------------+---------------------------+------------+------------+------------+-------------+-------------------------+-------------------+-------------------+-------------------+--------------------+--------------------------------+-----------------+-----------------+-----------------+------------------+------------------------------+--------------------+--------------------+--------------------+---------------------+---------------------------------+------------------+------------------+------------------+-------------------+-------------------------------+--------------------+-------+---+--------+------+-------+--------------+---------+------------+---------+-------------+----------+---+---------------+-------+-----+---+---------+------+-----------+------+---------------+---------------+---------------+---------------+---------------+---------------+----------------+----------------+----------------+------------------+------------------+------------------+---------------+---------------+---------------+---------------+---------------+---------------+---------------+---------------+---------------+---------------+---------------+---------------+------------------+------------------+------------------+---------------+---------------+---------------+----------------+----------------+----------------+------------------+------------------+------------------+---------------+---------------+---------------+---------------+---------------+---------------+---------------+---------------+-----------------+---------------+---------------+---------------+------------------+------------------+------------------+-------------------+------------------+------------------+-------------------+------------------+------------------+--------------------+-------------------+-------------------+----------------------+---------------------+---------------------+-------------------+------------------+------------------+-------------------+------------------+------------------+-------------------+------------------+------------------+-------------------+------------------+------------------+----------------------+---------------------+---------------------+-------------------+------------------+------------------+--------------------+-------------------+-------------------+----------------------+---------------------+---------------------+-------------------+------------------+------------------+-------------------+------------------+------------------+-------------------+------------------+------------------+-------------------+------------------+------------------+----------------------+---------------------+---------------------+---------------------+---------------------+---------------------+------------------+------------------------+-----------------------+-------------------------------------+------------------------+-----------------+--------------------+---------------+------------------+---------------+-------------------+---------+--------------+------------+-------------+---------+-------------+-----------+---------+------------+-----------------+------------+---------------+------------------+-------------+----------------+-----------------+-----------------+-------------+-------------+-------------+-------------+-------------+-------------+-------------+-------------+-------------+---------------+-------------+--------------------+--------------------+---------------+--------------------+--------------------+--------------------+--------------------+--------------------+-------------------+----------------+----------------+---------------------+---------------------+---------------------------+--------------------------------+----------------------------+----------------------------+---------------------------------+---------------------------------+--------------------------+--------------------------+-------------------------------+-------------------------------+--------------------------+-------------------------------+---------------------------------+--------------------------------------+-----------------+-----------------+-----------------+------------------+------------------+------------------+------------------+-------------------+-----------------+-----------------+-----------------+------------------+--------------------+--------------------+--------------------+--------------+--------------------+--------------------+-------------------+--------------------+--------------------+------------------+---------------+---------------+--------------------+--------------------+--------------------------+-------------------------------+---------------------------+---------------------------+--------------------------------+--------------------------------+-------------------------+-------------------------+------------------------------+------------------------------+-------------------------+------------------------------+--------------------------------+-------------------------------------+----------------+----------------+----------------+-----------------+-----------------+-----------------+-----------------+------------------+----------------+----------------+----------------+-----------------+--------------------+--------------------+--------------------+--------------------+--------------------+--------------------+--------------------+--------------------+--------------------+--------------------+----------------+----------------+---------------------+---------------------+---------------------------+--------------------------------+----------------------------+----------------------------+---------------------------------+---------------------------------+--------------------------+--------------------------+-------------------------------+-------------------------------+--------------------------+-------------------------------+---------------------------------+--------------------------------------+--------------------+--------------------+--------------------+--------------------+--------------------+--------------------+--------------------+--------------------+--------------------+--------------------+--------------------+--------------------+--------------------+--------------------+\n",
      "only showing top 1 row\n",
      "\n"
     ]
    }
   ],
   "source": [
    "processed_data.show(1)"
   ]
  },
  {
   "cell_type": "code",
   "execution_count": 51,
   "id": "83598177",
   "metadata": {},
   "outputs": [],
   "source": [
    "from pyspark.sql.types import IntegerType\n",
    "\n",
    "processed_data = processed_data.withColumn(\"regged\", F.col(\"regged\").cast(IntegerType()))"
   ]
  },
  {
   "cell_type": "code",
   "execution_count": null,
   "id": "7dce67ed",
   "metadata": {},
   "outputs": [],
   "source": [
    "from pyspark.mllib.linalg import Vectors as MLlibVectors\n",
    "from pyspark.mllib.util import MLUtils\n",
    "from pyspark.mllib.regression import LabeledPoint\n",
    "\n",
    "labeled_rdd = processed_data.rdd.map(\n",
    "    lambda row: LabeledPoint(\n",
    "        float(row[\"regged\"]),\n",
    "        MLlibVectors.sparse(row[\"features\"].size, row[\"features\"].indices, row[\"features\"].values)\n",
    "    ))\n",
    "\n",
    "output_path = \"file:///C:/Users/DT-Liuxiangfei/Documents/TestCodes/model/data/libsvm_data\"\n",
    "MLUtils.saveAsLibSVMFile(labeled_rdd, output_path)"
   ]
  },
  {
   "cell_type": "code",
   "execution_count": 79,
   "id": "da8fd2f0",
   "metadata": {},
   "outputs": [
    {
     "name": "stdout",
     "output_type": "stream",
     "text": [
      "root\n",
      " |-- label: double (nullable = true)\n",
      " |-- features: vector (nullable = true)\n",
      "\n"
     ]
    }
   ],
   "source": [
    "df_lib = spark.read.format(\"libsvm\").load(output_path)\n",
    "df_lib.printSchema()"
   ]
  },
  {
   "cell_type": "code",
   "execution_count": null,
   "id": "6eaa27bc",
   "metadata": {},
   "outputs": [],
   "source": [
    "from scipy.sparse import csr_matrix\n",
    "\n",
    "data, indices, indptr = [], [], [0]\n",
    "for row in df_lib.collect():\n",
    "    vec = row.features\n",
    "    data.extend(vec.values)\n",
    "    indices.extend(vec.indices)\n",
    "    indptr.append(len(data))\n",
    "\n",
    "X_sparse = csr_matrix((data, indices, indptr), shape=(df_lib.count(), vec.size))\n",
    "y = np.array(df_lib.select(\"regged\").rdd.flatMap(lambda x: x).collect())"
   ]
  },
  {
   "cell_type": "code",
   "execution_count": null,
   "id": "21132fda",
   "metadata": {},
   "outputs": [],
   "source": [
    "import itertools\n",
    "import xgboost as xgb\n",
    "\n",
    "dtrain = xgb.DMatrix(X_sparse, label=y, missing=0.0)\n",
    "\n",
    "param_grid = {\n",
    "    'max_depth': [4, 5, 6],\n",
    "    'eta': [0.01, 0.05, 0.1],\n",
    "    'subsample': [0.8, 1.0],\n",
    "    'colsample_bytree': [0.8, 1.0]\n",
    "}\n",
    "\n",
    "scale_pos_weight = int(pd.Series(y).value_counts()[0] / pd.Series(y).value_counts()[1])"
   ]
  },
  {
   "cell_type": "code",
   "execution_count": null,
   "id": "358ce769",
   "metadata": {},
   "outputs": [],
   "source": [
    "def grid_search_cv_xgb(param_grid, nfolds):\n",
    "    best_auc = 0\n",
    "    best_params = None\n",
    "    cv_results_all = []\n",
    "\n",
    "    for max_depth, eta, subsample, colsample_bytree in itertools.product(\n",
    "            param_grid['max_depth'], param_grid['eta'],\n",
    "            param_grid['subsample'], param_grid['colsample_bytree']):\n",
    "\n",
    "        params = {\n",
    "            'objective': 'binary:logistic',\n",
    "            'eval_metric': ['logloss', 'auc'],\n",
    "            'scale_pos_weight': scale_pos_weight,\n",
    "            'max_depth': max_depth,\n",
    "            'eta': eta,\n",
    "            'subsample': subsample,\n",
    "            'colsample_bytree': colsample_bytree,\n",
    "            'seed': 42\n",
    "        }\n",
    "        cv_results = xgb.cv(\n",
    "            params,\n",
    "            dtrain,\n",
    "            num_boost_round=1000,\n",
    "            nfold=nfolds,\n",
    "            stratified=True,\n",
    "            early_stopping_rounds=20,\n",
    "            seed=42,\n",
    "            verbose_eval=10\n",
    "        )\n",
    "        mean_auc = cv_results['test-auc-mean'].max()\n",
    "        best_round = cv_results['test-auc-mean'].idxmax() + 1\n",
    "        cv_results_all.append({\n",
    "            'params': params,\n",
    "            'val_auc': mean_auc,\n",
    "            'best_round': best_round\n",
    "        })\n",
    "        if mean_auc > best_auc:\n",
    "            best_auc = mean_auc\n",
    "            best_params = params\n",
    "            best_num_boost_round = best_round\n",
    "\n",
    "    print(\"最优参数：\", best_params)\n",
    "    print(\"最优AUC：\", best_auc)\n",
    "    print(\"最优迭代轮数：\", best_num_boost_round)\n",
    "    \n",
    "    return best_params, best_num_boost_round, cv_results_all"
   ]
  },
  {
   "cell_type": "code",
   "execution_count": null,
   "id": "abd0d089",
   "metadata": {},
   "outputs": [],
   "source": [
    "best_params, best_num_boost_round, results = grid_search_cv_xgb(param_grid, 3)"
   ]
  },
  {
   "cell_type": "code",
   "execution_count": null,
   "id": "8297eac0",
   "metadata": {},
   "outputs": [],
   "source": [
    "best_model = xgb.train(best_params, dtrain, num_boost_round)"
   ]
  },
  {
   "cell_type": "code",
   "execution_count": null,
   "id": "929636d7",
   "metadata": {},
   "outputs": [],
   "source": [
    "import matplotlib.pyplot as plt\n",
    "\n",
    "# 提取参数和val_auc\n",
    "results_df = pd.DataFrame(results)\n",
    "param_names = ['max_depth', 'eta', 'subsample', 'colsample_bytree']\n",
    "\n",
    "# 分别绘制val_auc关于每个参数的变化关系\n",
    "fig, axes = plt.subplots(2, 2, figsize=(12, 10))\n",
    "axes = axes.flatten()\n",
    "\n",
    "for i, param in enumerate(param_names):\n",
    "    grouped = results_df.groupby(results_df['params'].apply(lambda x: x[param]))['val_auc'].mean()\n",
    "    axes[i].plot(grouped.index, grouped.values, marker='o')\n",
    "    axes[i].set_xlabel(param)\n",
    "    axes[i].set_ylabel('val_auc')\n",
    "    axes[i].set_title(f'val_auc vs {param}')\n",
    "    axes[i].grid(True)\n",
    "\n",
    "plt.tight_layout()\n",
    "plt.show()"
   ]
  },
  {
   "cell_type": "code",
   "execution_count": null,
   "id": "c1d62043",
   "metadata": {},
   "outputs": [],
   "source": []
  },
  {
   "cell_type": "code",
   "execution_count": null,
   "id": "854dc2c5",
   "metadata": {},
   "outputs": [],
   "source": []
  }
 ],
 "metadata": {
  "kernelspec": {
   "display_name": "python38",
   "language": "python",
   "name": "python3"
  },
  "language_info": {
   "codemirror_mode": {
    "name": "ipython",
    "version": 3
   },
   "file_extension": ".py",
   "mimetype": "text/x-python",
   "name": "python",
   "nbconvert_exporter": "python",
   "pygments_lexer": "ipython3",
   "version": "3.8.19"
  }
 },
 "nbformat": 4,
 "nbformat_minor": 5
}
